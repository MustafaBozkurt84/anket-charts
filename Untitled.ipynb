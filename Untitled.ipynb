{
 "cells": [
  {
   "cell_type": "code",
   "execution_count": 1,
   "id": "documentary-capitol",
   "metadata": {},
   "outputs": [],
   "source": [
    "import pandas as pd"
   ]
  },
  {
   "cell_type": "code",
   "execution_count": 2,
   "id": "metallic-deadline",
   "metadata": {},
   "outputs": [],
   "source": [
    "df=pd.read_csv(\"AnketSonuclari01_20210303.csv\")"
   ]
  },
  {
   "cell_type": "code",
   "execution_count": 4,
   "id": "religious-soundtrack",
   "metadata": {},
   "outputs": [
    {
     "data": {
      "text/plain": [
       "115"
      ]
     },
     "execution_count": 4,
     "metadata": {},
     "output_type": "execute_result"
    }
   ],
   "source": [
    "df[\"question\"].max()"
   ]
  },
  {
   "cell_type": "code",
   "execution_count": 5,
   "id": "lightweight-gazette",
   "metadata": {},
   "outputs": [
    {
     "data": {
      "text/html": [
       "<div>\n",
       "<style scoped>\n",
       "    .dataframe tbody tr th:only-of-type {\n",
       "        vertical-align: middle;\n",
       "    }\n",
       "\n",
       "    .dataframe tbody tr th {\n",
       "        vertical-align: top;\n",
       "    }\n",
       "\n",
       "    .dataframe thead th {\n",
       "        text-align: right;\n",
       "    }\n",
       "</style>\n",
       "<table border=\"1\" class=\"dataframe\">\n",
       "  <thead>\n",
       "    <tr style=\"text-align: right;\">\n",
       "      <th></th>\n",
       "      <th>question</th>\n",
       "      <th>soru</th>\n",
       "      <th>cevap</th>\n",
       "      <th>countAnswer</th>\n",
       "      <th>percentage</th>\n",
       "    </tr>\n",
       "  </thead>\n",
       "  <tbody>\n",
       "    <tr>\n",
       "      <th>0</th>\n",
       "      <td>1</td>\n",
       "      <td>Sana ne hatırlatmamı isterdin? :)</td>\n",
       "      <td>Su İçme</td>\n",
       "      <td>303891</td>\n",
       "      <td>0.3945</td>\n",
       "    </tr>\n",
       "    <tr>\n",
       "      <th>1</th>\n",
       "      <td>1</td>\n",
       "      <td>Sana ne hatırlatmamı isterdin? :)</td>\n",
       "      <td>Uyku</td>\n",
       "      <td>80627</td>\n",
       "      <td>0.1047</td>\n",
       "    </tr>\n",
       "    <tr>\n",
       "      <th>2</th>\n",
       "      <td>1</td>\n",
       "      <td>Sana ne hatırlatmamı isterdin? :)</td>\n",
       "      <td>İlaç</td>\n",
       "      <td>50850</td>\n",
       "      <td>0.0660</td>\n",
       "    </tr>\n",
       "    <tr>\n",
       "      <th>3</th>\n",
       "      <td>1</td>\n",
       "      <td>Sana ne hatırlatmamı isterdin? :)</td>\n",
       "      <td>Tampon-Ped Değiştirme</td>\n",
       "      <td>334930</td>\n",
       "      <td>0.4348</td>\n",
       "    </tr>\n",
       "    <tr>\n",
       "      <th>4</th>\n",
       "      <td>2</td>\n",
       "      <td>Reglin düzenli mi?</td>\n",
       "      <td>Düzenli</td>\n",
       "      <td>206393</td>\n",
       "      <td>0.3832</td>\n",
       "    </tr>\n",
       "    <tr>\n",
       "      <th>...</th>\n",
       "      <td>...</td>\n",
       "      <td>...</td>\n",
       "      <td>...</td>\n",
       "      <td>...</td>\n",
       "      <td>...</td>\n",
       "    </tr>\n",
       "    <tr>\n",
       "      <th>315</th>\n",
       "      <td>114</td>\n",
       "      <td>Bireysel ihtiyaçların için aylık ortalama ne k...</td>\n",
       "      <td>5.000 TL ve üstü</td>\n",
       "      <td>758</td>\n",
       "      <td>0.0116</td>\n",
       "    </tr>\n",
       "    <tr>\n",
       "      <th>316</th>\n",
       "      <td>115</td>\n",
       "      <td>Pahalı ama çok beğendiğin bir ürün almak isted...</td>\n",
       "      <td>Gelirim/harçlığım genellikle yeterli, çok beğe...</td>\n",
       "      <td>29722</td>\n",
       "      <td>0.2295</td>\n",
       "    </tr>\n",
       "    <tr>\n",
       "      <th>317</th>\n",
       "      <td>115</td>\n",
       "      <td>Pahalı ama çok beğendiğin bir ürün almak isted...</td>\n",
       "      <td>Sevdiklerim sayesinde ilk doğum günümde aldırı...</td>\n",
       "      <td>5816</td>\n",
       "      <td>0.0449</td>\n",
       "    </tr>\n",
       "    <tr>\n",
       "      <th>318</th>\n",
       "      <td>115</td>\n",
       "      <td>Pahalı ama çok beğendiğin bir ürün almak isted...</td>\n",
       "      <td>Her zaman yedekte param var ve gerekirse kulla...</td>\n",
       "      <td>21755</td>\n",
       "      <td>0.1680</td>\n",
       "    </tr>\n",
       "    <tr>\n",
       "      <th>319</th>\n",
       "      <td>115</td>\n",
       "      <td>Pahalı ama çok beğendiğin bir ürün almak isted...</td>\n",
       "      <td>Sanırım biraz daha beklemem gerekir.</td>\n",
       "      <td>72217</td>\n",
       "      <td>0.5576</td>\n",
       "    </tr>\n",
       "  </tbody>\n",
       "</table>\n",
       "<p>320 rows × 5 columns</p>\n",
       "</div>"
      ],
      "text/plain": [
       "     question                                               soru  \\\n",
       "0           1                  Sana ne hatırlatmamı isterdin? :)   \n",
       "1           1                  Sana ne hatırlatmamı isterdin? :)   \n",
       "2           1                  Sana ne hatırlatmamı isterdin? :)   \n",
       "3           1                  Sana ne hatırlatmamı isterdin? :)   \n",
       "4           2                                 Reglin düzenli mi?   \n",
       "..        ...                                                ...   \n",
       "315       114  Bireysel ihtiyaçların için aylık ortalama ne k...   \n",
       "316       115  Pahalı ama çok beğendiğin bir ürün almak isted...   \n",
       "317       115  Pahalı ama çok beğendiğin bir ürün almak isted...   \n",
       "318       115  Pahalı ama çok beğendiğin bir ürün almak isted...   \n",
       "319       115  Pahalı ama çok beğendiğin bir ürün almak isted...   \n",
       "\n",
       "                                                 cevap  countAnswer  \\\n",
       "0                                              Su İçme       303891   \n",
       "1                                                 Uyku        80627   \n",
       "2                                                 İlaç        50850   \n",
       "3                                Tampon-Ped Değiştirme       334930   \n",
       "4                                              Düzenli       206393   \n",
       "..                                                 ...          ...   \n",
       "315                                   5.000 TL ve üstü          758   \n",
       "316  Gelirim/harçlığım genellikle yeterli, çok beğe...        29722   \n",
       "317  Sevdiklerim sayesinde ilk doğum günümde aldırı...         5816   \n",
       "318  Her zaman yedekte param var ve gerekirse kulla...        21755   \n",
       "319               Sanırım biraz daha beklemem gerekir.        72217   \n",
       "\n",
       "     percentage  \n",
       "0        0.3945  \n",
       "1        0.1047  \n",
       "2        0.0660  \n",
       "3        0.4348  \n",
       "4        0.3832  \n",
       "..          ...  \n",
       "315      0.0116  \n",
       "316      0.2295  \n",
       "317      0.0449  \n",
       "318      0.1680  \n",
       "319      0.5576  \n",
       "\n",
       "[320 rows x 5 columns]"
      ]
     },
     "execution_count": 5,
     "metadata": {},
     "output_type": "execute_result"
    }
   ],
   "source": [
    "df"
   ]
  },
  {
   "cell_type": "code",
   "execution_count": 8,
   "id": "worthy-imperial",
   "metadata": {},
   "outputs": [
    {
     "data": {
      "text/plain": [
       "320"
      ]
     },
     "execution_count": 8,
     "metadata": {},
     "output_type": "execute_result"
    }
   ],
   "source": [
    "df[\"cevap\"].value_counts().sum()"
   ]
  },
  {
   "cell_type": "code",
   "execution_count": null,
   "id": "heated-thirty",
   "metadata": {},
   "outputs": [],
   "source": []
  }
 ],
 "metadata": {
  "kernelspec": {
   "display_name": "Python 3",
   "language": "python",
   "name": "python3"
  },
  "language_info": {
   "codemirror_mode": {
    "name": "ipython",
    "version": 3
   },
   "file_extension": ".py",
   "mimetype": "text/x-python",
   "name": "python",
   "nbconvert_exporter": "python",
   "pygments_lexer": "ipython3",
   "version": "3.7.9"
  }
 },
 "nbformat": 4,
 "nbformat_minor": 5
}
