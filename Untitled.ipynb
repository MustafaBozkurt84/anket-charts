{
 "cells": [
  {
   "cell_type": "code",
   "execution_count": 155,
   "id": "parliamentary-grove",
   "metadata": {},
   "outputs": [],
   "source": [
    "import pandas as pd\n",
    "import numpy as np"
   ]
  },
  {
   "cell_type": "code",
   "execution_count": 156,
   "id": "aggregate-spain",
   "metadata": {},
   "outputs": [],
   "source": [
    "df_sorular = pd.read_csv(\"AnketSonuclari01_20210401.csv\")"
   ]
  },
  {
   "cell_type": "code",
   "execution_count": 157,
   "id": "sorted-metro",
   "metadata": {},
   "outputs": [
    {
     "data": {
      "text/html": [
       "<div>\n",
       "<style scoped>\n",
       "    .dataframe tbody tr th:only-of-type {\n",
       "        vertical-align: middle;\n",
       "    }\n",
       "\n",
       "    .dataframe tbody tr th {\n",
       "        vertical-align: top;\n",
       "    }\n",
       "\n",
       "    .dataframe thead th {\n",
       "        text-align: right;\n",
       "    }\n",
       "</style>\n",
       "<table border=\"1\" class=\"dataframe\">\n",
       "  <thead>\n",
       "    <tr style=\"text-align: right;\">\n",
       "      <th></th>\n",
       "      <th>question</th>\n",
       "      <th>soru</th>\n",
       "      <th>cevap</th>\n",
       "      <th>countAnswer</th>\n",
       "      <th>percentage</th>\n",
       "    </tr>\n",
       "  </thead>\n",
       "  <tbody>\n",
       "    <tr>\n",
       "      <th>0</th>\n",
       "      <td>1</td>\n",
       "      <td>Sana ne hatırlatmamı isterdin? :)</td>\n",
       "      <td>Su İçme</td>\n",
       "      <td>303891</td>\n",
       "      <td>0.3945</td>\n",
       "    </tr>\n",
       "    <tr>\n",
       "      <th>1</th>\n",
       "      <td>1</td>\n",
       "      <td>Sana ne hatırlatmamı isterdin? :)</td>\n",
       "      <td>Uyku</td>\n",
       "      <td>80627</td>\n",
       "      <td>0.1047</td>\n",
       "    </tr>\n",
       "    <tr>\n",
       "      <th>2</th>\n",
       "      <td>1</td>\n",
       "      <td>Sana ne hatırlatmamı isterdin? :)</td>\n",
       "      <td>İlaç</td>\n",
       "      <td>50850</td>\n",
       "      <td>0.0660</td>\n",
       "    </tr>\n",
       "    <tr>\n",
       "      <th>3</th>\n",
       "      <td>1</td>\n",
       "      <td>Sana ne hatırlatmamı isterdin? :)</td>\n",
       "      <td>Tampon-Ped Değiştirme</td>\n",
       "      <td>334930</td>\n",
       "      <td>0.4348</td>\n",
       "    </tr>\n",
       "    <tr>\n",
       "      <th>4</th>\n",
       "      <td>2</td>\n",
       "      <td>Reglin düzenli mi?</td>\n",
       "      <td>Düzenli</td>\n",
       "      <td>206393</td>\n",
       "      <td>0.3832</td>\n",
       "    </tr>\n",
       "    <tr>\n",
       "      <th>...</th>\n",
       "      <td>...</td>\n",
       "      <td>...</td>\n",
       "      <td>...</td>\n",
       "      <td>...</td>\n",
       "      <td>...</td>\n",
       "    </tr>\n",
       "    <tr>\n",
       "      <th>392</th>\n",
       "      <td>126</td>\n",
       "      <td>Burcun ne tatlım?</td>\n",
       "      <td>Akrep</td>\n",
       "      <td>2559</td>\n",
       "      <td>0.0790</td>\n",
       "    </tr>\n",
       "    <tr>\n",
       "      <th>393</th>\n",
       "      <td>126</td>\n",
       "      <td>Burcun ne tatlım?</td>\n",
       "      <td>Yay</td>\n",
       "      <td>2248</td>\n",
       "      <td>0.0694</td>\n",
       "    </tr>\n",
       "    <tr>\n",
       "      <th>394</th>\n",
       "      <td>126</td>\n",
       "      <td>Burcun ne tatlım?</td>\n",
       "      <td>Oğlak</td>\n",
       "      <td>2567</td>\n",
       "      <td>0.0792</td>\n",
       "    </tr>\n",
       "    <tr>\n",
       "      <th>395</th>\n",
       "      <td>126</td>\n",
       "      <td>Burcun ne tatlım?</td>\n",
       "      <td>Kova</td>\n",
       "      <td>2502</td>\n",
       "      <td>0.0772</td>\n",
       "    </tr>\n",
       "    <tr>\n",
       "      <th>396</th>\n",
       "      <td>126</td>\n",
       "      <td>Burcun ne tatlım?</td>\n",
       "      <td>Balık</td>\n",
       "      <td>2533</td>\n",
       "      <td>0.0782</td>\n",
       "    </tr>\n",
       "  </tbody>\n",
       "</table>\n",
       "<p>397 rows × 5 columns</p>\n",
       "</div>"
      ],
      "text/plain": [
       "     question                               soru                  cevap  \\\n",
       "0           1  Sana ne hatırlatmamı isterdin? :)                Su İçme   \n",
       "1           1  Sana ne hatırlatmamı isterdin? :)                   Uyku   \n",
       "2           1  Sana ne hatırlatmamı isterdin? :)                   İlaç   \n",
       "3           1  Sana ne hatırlatmamı isterdin? :)  Tampon-Ped Değiştirme   \n",
       "4           2                 Reglin düzenli mi?                Düzenli   \n",
       "..        ...                                ...                    ...   \n",
       "392       126                  Burcun ne tatlım?                  Akrep   \n",
       "393       126                  Burcun ne tatlım?                    Yay   \n",
       "394       126                  Burcun ne tatlım?                  Oğlak   \n",
       "395       126                  Burcun ne tatlım?                   Kova   \n",
       "396       126                  Burcun ne tatlım?                  Balık   \n",
       "\n",
       "     countAnswer  percentage  \n",
       "0         303891      0.3945  \n",
       "1          80627      0.1047  \n",
       "2          50850      0.0660  \n",
       "3         334930      0.4348  \n",
       "4         206393      0.3832  \n",
       "..           ...         ...  \n",
       "392         2559      0.0790  \n",
       "393         2248      0.0694  \n",
       "394         2567      0.0792  \n",
       "395         2502      0.0772  \n",
       "396         2533      0.0782  \n",
       "\n",
       "[397 rows x 5 columns]"
      ]
     },
     "execution_count": 157,
     "metadata": {},
     "output_type": "execute_result"
    }
   ],
   "source": [
    "df_sorular"
   ]
  },
  {
   "cell_type": "code",
   "execution_count": 158,
   "id": "available-temple",
   "metadata": {},
   "outputs": [],
   "source": [
    "df_question=pd.read_excel(\"DataStudy02mail.xlsx\",sheet_name=\"questions\")"
   ]
  },
  {
   "cell_type": "code",
   "execution_count": 159,
   "id": "reserved-portland",
   "metadata": {},
   "outputs": [
    {
     "data": {
      "text/plain": [
       "['Sana ne hatırlatmamı isterdin? :)',\n",
       " 'Reglin düzenli mi?',\n",
       " 'Yoğurttan tatlı olur mu?',\n",
       " 'Çok tatlısın, güzelsin, şekerci mi baban senin?',\n",
       " 'Evcil hayvanın var mı? ? ?',\n",
       " 'Meme muayeneni ne sıklıkla yapıyorsun?',\n",
       " 'Aniden tatlı krizine girsen hangisini tercih edersin tatlım?',\n",
       " \"Senin favori Halley'in hangisi tatlım?\",\n",
       " 'Hangi spor türünü yapıyorsun tatlım?',\n",
       " 'Sence 30 dakikada 500 kalori yakılır mı?',\n",
       " 'Genellikle kendini nasıl hissediyorsun tatlım?',\n",
       " 'Hangi operatörü kullanıyorsun bakalım?',\n",
       " 'X O X O X O O X ?',\n",
       " 'Senin favorin hangisi?',\n",
       " 'Senin favorin hangisi?',\n",
       " 'Senin favorin hangisi?',\n",
       " 'Doğum kontrol ilacı kullanıyor musun?',\n",
       " 'Tıraş bıçağı kullanmanın en güzel özelliği nedir sence?',\n",
       " 'Her gün doğum haritana göre burç yorumları ve astro tavsiyeler almak ister misin?',\n",
       " 'Sen neden tıraş olmayı seçiyorsun?',\n",
       " 'Her gün film, şarkı, kitap tavsiyeleri ve genel kültür bilgileri almak ister misin?',\n",
       " 'Hamilelikte gıda takviyesi kullanımı hakkında ne düşünüyorsun?',\n",
       " 'Her gün en trend markalardan indirim fırsatları ve çok özel avantajlar ister misin?',\n",
       " 'Bugün kendini nasıl hissediyorsun?',\n",
       " 'Regl günlerinde de sporuna devam ediyor musun?',\n",
       " 'Sence \"egzama\" hakkında hangisi doğru?',\n",
       " 'Senin yerine kalori takibini yapacak bir asistan ister misin?',\n",
       " 'Hamile kalmak için aşağıdakilerden hangisinin çok önemli olduğunu düşünüyorsun?',\n",
       " 'Onca regl takvimi arasından neden ben? ?',\n",
       " 'Onca regl takvimi arasından neden ben? ?',\n",
       " 'Kimler bütün gün bilgisayarın başında ve boyun ağrısı çekiyor?',\n",
       " 'Sana da su içsen yarıyor mu?',\n",
       " 'Sana da su içsen yarıyor mu?',\n",
       " 'Sana da su içsen yarıyor mu?',\n",
       " 'Sana da su içsen yarıyor mu?',\n",
       " 'Sana da su içsen yarıyor mu?',\n",
       " 'Sana da su içsen yarıyor mu?',\n",
       " 'Hangi pedi kullanıyorsun?',\n",
       " 'Hareketli günlerde, ve hatta spor yaparken rahatlıkla kullanabileceğin Kotex Active’i denedin mi?',\n",
       " 'Hangi pedi kullanıyorsun?',\n",
       " 'Sence hamile kalmak için aşağıdakilerden hangisi en önemlisi?',\n",
       " 'Sence hamile kalmak için aşağıdakilerden hangisi en önemlisi?',\n",
       " 'Sence hamile kalmak için aşağıdakilerden hangisi en önemlisi?',\n",
       " 'Sence hamile kalmak için aşağıdakilerden hangisi en önemlisi?',\n",
       " 'Hareketli günlerde, ve hatta spor yaparken rahatlıkla kullanabileceğin Kotex Active’i denedin mi?',\n",
       " 'Hareketli günlerde, ve hatta spor yaparken rahatlıkla kullanabileceğin Kotex Active’i denedin mi ?',\n",
       " 'Hareketli günlerde, ve hatta spor yaparken rahatlıkla kullanabileceğin Kotex Active’i denedin mi?',\n",
       " 'Onca regl takvimi arasından neden ben? ?',\n",
       " 'Sence Türkiye’nin en uzun ve en geniş gece pedi hangisidir?',\n",
       " 'Hangi gece pedini kullanıyorsun?',\n",
       " 'Hangi konuyla ilgili daha çok tavsiye vermemi istersin?',\n",
       " 'Yaz ayları boyunca regl döneminde hangisini kullanmayı tercih ediyorsun?',\n",
       " \"PepStore'un eğlenceli ve heyecanlı dünyasına katıldın mı tatlım?\",\n",
       " 'She sembolü bir ped olsa markası ne olurdu?  ♀',\n",
       " 'Dişilik sembolü ♀ bir ped olsa, markası ne olurdu sence?',\n",
       " 'En sevdiğin renk hangisi',\n",
       " 'Arkadaşa ihtiyaç duyanların omzuna yaslandığı kişiyim.',\n",
       " 'Arkadaşa ihtiyaç duyanların omzuna yaslandığı kişiyim.',\n",
       " 'Arkadaşa ihtiyaç duyanların omzuna yaslandığı kişiyim.',\n",
       " 'Bir tartışmada hemen teslim olmayı reddederim.',\n",
       " 'Bence iyi bir film tek başına izlenmeli.',\n",
       " 'Başkalarının benim hakkımda ne düşündüklerini pek önemsemem.',\n",
       " 'Son derece pratik bir insanımdır.',\n",
       " 'Belirsizlik bana heyecan veriyor.',\n",
       " 'Hayatın müthiş bir gizem olduğunu düşünüyorum',\n",
       " 'Seninle aramızdaki bir gizemi daha çözelim diyorum; eğitim durumun nedir?',\n",
       " 'Seninle aramızdaki bir gizemi daha çözelim diyorum; eğitim durumun nedir?',\n",
       " 'Herkes için söylenebilecek güzel bir sözüm vardır.',\n",
       " 'Oldukça hassas bir insanım.',\n",
       " 'Bana göre düzensiz olmak bir kusurdur.',\n",
       " 'Dikkatim çok kolay dağılır.',\n",
       " 'Moda ikonu olmak benim için önemli bir şey.',\n",
       " 'Alışverişte en önemli kriterim şudur: Popüler ve prestijli markaları satın almak.',\n",
       " 'Moda değiştikçe gardırobum da değişir.',\n",
       " 'Benim için gerçekler her zaman duygulardan önemlidir.',\n",
       " 'Genellikle en düşük fiyatlı ürünleri tercih ederim.',\n",
       " 'Stres altında bile çalışmaya devam edebilirim.',\n",
       " 'Bu arada çalışmak demişken, sen çalışıyor musun?',\n",
       " 'Bu arada çalışmak demişken, sen çalışıyor musun?',\n",
       " 'Deodorant kullanıyor musun tatlım?',\n",
       " 'Satın almaya doyamadığım favori markalarım var.',\n",
       " 'Son teknoloji ürünler için para harcamayı seven biriyim.',\n",
       " 'Piyango, loto, kazı kazan gibi şans oyunlarına mutlaka para ayırırım.',\n",
       " 'Her durumda soğukkanlı olan kazanır.',\n",
       " 'Moda trendleri benden kaçmaz.',\n",
       " 'Bir şeyler satın almayı önemsemem, aldığım şeyler üzerinde fazla düşünmem.',\n",
       " 'Hızlı alışveriş yapar, yeterince iyi bulduğum ilk şeyi hemen alırım.',\n",
       " 'Bir ürün ne kadar pahalıysa o kadar kalitelidir.',\n",
       " 'Son sezon ürünlerden en az bir tane kıyafetim olur.',\n",
       " 'Bugün Nasılsın?',\n",
       " \"Black Friday'de hangi kategorideki indirimler ve kampanyalar seni daha çok heyecanlandırır?\",\n",
       " 'Kelebek bir günlük ped olsa, markası ne olurdu sence?',\n",
       " 'Tüm regl dönemini tek bir ped ile geçirecek olsan, aşağıdakilerden hangisini seçerdin?',\n",
       " 'Hangi konularla ilgili daha çok tavsiye vermemi istersin?',\n",
       " 'Aşağıdaki ped markalarından hangisinin tasarımını daha çok beğeniyorsun?',\n",
       " 'İyi bir gün geceden başlar. Regl döneminde kesintisiz bir gece uykusu için en yakın arkadaşın kim olurdu?',\n",
       " 'Sağlığın için bu çok önemli: Düzenli hareket ediyor musun tatlım?',\n",
       " 'Spor yapmaya üşenip evde neler yapabilirim diyenlerden misin?',\n",
       " 'Hijyenik ped seçimini en çok hangisi etkiliyor? (Bu soruya birden fazla cevap verebilirsin.)',\n",
       " 'Regl döneminde huzursuz uyurum çünkü...',\n",
       " 'Regl dönemlerinde geceleri rahat uyumak için hangisi ilk tercihin olur?',\n",
       " 'Tatlım, gün içinde telefonuna gönderdiğim bildirimler hakkındaki fikrini benimle paylaşır mısın?',\n",
       " 'Doğum kontrol hapını hangi amaçla kullanıyorsun? (Birden fazla şık seçebilirsin.)',\n",
       " 'Çevrendeki insanlara Pepapp’ı tavsiye eder misin? 1’den 5’e sevgi yükseliyor, seç birini bakalım!',\n",
       " 'Konu doğallık olunca, hangisine daha yakın hissediyorsun?',\n",
       " 'Aşağıdakilerden hangisi senin beslenme biçimini tanımlar?',\n",
       " 'Evde kaç kişi yaşıyorsunuz?',\n",
       " 'Evindeki bireyleri hangisi daha doğru ifade ediyor?',\n",
       " 'Cilt tipin için hangisini söyleyebilirsin?',\n",
       " 'Ailenin aylık ortalama geliri nedir?',\n",
       " 'Bireysel ihtiyaçların için aylık ortalama ne kadar harcıyorsun?',\n",
       " 'Pahalı ama çok beğendiğin bir ürün almak istediğinde hangi durum seni en iyi yansıtıyor?']"
      ]
     },
     "execution_count": 159,
     "metadata": {},
     "output_type": "execute_result"
    }
   ],
   "source": [
    "df_question[\"title\"].tolist()"
   ]
  },
  {
   "cell_type": "code",
   "execution_count": 160,
   "id": "dutch-rwanda",
   "metadata": {},
   "outputs": [],
   "source": [
    "df =pd.read_excel(\"DataStudy02mail.xlsx\",sheet_name=\"Sheet4\")"
   ]
  },
  {
   "cell_type": "code",
   "execution_count": 161,
   "id": "demographic-evidence",
   "metadata": {},
   "outputs": [
    {
     "data": {
      "text/html": [
       "<div>\n",
       "<style scoped>\n",
       "    .dataframe tbody tr th:only-of-type {\n",
       "        vertical-align: middle;\n",
       "    }\n",
       "\n",
       "    .dataframe tbody tr th {\n",
       "        vertical-align: top;\n",
       "    }\n",
       "\n",
       "    .dataframe thead th {\n",
       "        text-align: right;\n",
       "    }\n",
       "</style>\n",
       "<table border=\"1\" class=\"dataframe\">\n",
       "  <thead>\n",
       "    <tr style=\"text-align: right;\">\n",
       "      <th></th>\n",
       "      <th>AnalizID</th>\n",
       "      <th>yasGroup</th>\n",
       "      <th>q_1_Tampon-Ped Değiştirme</th>\n",
       "      <th>q_1_Su İçme</th>\n",
       "      <th>q_1_Uyku</th>\n",
       "      <th>q_1_İlaç</th>\n",
       "      <th>q_2_Düzensiz</th>\n",
       "      <th>q_2_Düzenli</th>\n",
       "      <th>q_3_Mükemmel olur!</th>\n",
       "      <th>q_3_Yok canım daha neler!</th>\n",
       "      <th>...</th>\n",
       "      <th>q_114_200 TL - 499 TL</th>\n",
       "      <th>q_114_500 TL – 999 TL</th>\n",
       "      <th>q_114_1.000 TL – 1.999 TL</th>\n",
       "      <th>q_114_2.000 TL - 2.999 TL</th>\n",
       "      <th>q_114_5.000 TL ve üstü</th>\n",
       "      <th>q_114_3.000 TL - 4.999 TL</th>\n",
       "      <th>q_115_Sanırım biraz daha beklemem gerekir.</th>\n",
       "      <th>q_115_Gelirim/harçlığım genellikle yeterli, çok beğenirsem alırım.</th>\n",
       "      <th>q_115_Her zaman yedekte param var ve gerekirse kullanırım.</th>\n",
       "      <th>q_115_Sevdiklerim sayesinde ilk doğum günümde aldırırım.</th>\n",
       "    </tr>\n",
       "  </thead>\n",
       "  <tbody>\n",
       "    <tr>\n",
       "      <th>0</th>\n",
       "      <td>1</td>\n",
       "      <td>20-24</td>\n",
       "      <td>NaN</td>\n",
       "      <td>NaN</td>\n",
       "      <td>NaN</td>\n",
       "      <td>NaN</td>\n",
       "      <td>NaN</td>\n",
       "      <td>NaN</td>\n",
       "      <td>NaN</td>\n",
       "      <td>NaN</td>\n",
       "      <td>...</td>\n",
       "      <td>NaN</td>\n",
       "      <td>NaN</td>\n",
       "      <td>NaN</td>\n",
       "      <td>NaN</td>\n",
       "      <td>NaN</td>\n",
       "      <td>NaN</td>\n",
       "      <td>NaN</td>\n",
       "      <td>NaN</td>\n",
       "      <td>NaN</td>\n",
       "      <td>NaN</td>\n",
       "    </tr>\n",
       "    <tr>\n",
       "      <th>1</th>\n",
       "      <td>2</td>\n",
       "      <td>15-19</td>\n",
       "      <td>NaN</td>\n",
       "      <td>NaN</td>\n",
       "      <td>NaN</td>\n",
       "      <td>NaN</td>\n",
       "      <td>NaN</td>\n",
       "      <td>NaN</td>\n",
       "      <td>NaN</td>\n",
       "      <td>NaN</td>\n",
       "      <td>...</td>\n",
       "      <td>NaN</td>\n",
       "      <td>NaN</td>\n",
       "      <td>NaN</td>\n",
       "      <td>NaN</td>\n",
       "      <td>NaN</td>\n",
       "      <td>NaN</td>\n",
       "      <td>NaN</td>\n",
       "      <td>NaN</td>\n",
       "      <td>NaN</td>\n",
       "      <td>NaN</td>\n",
       "    </tr>\n",
       "    <tr>\n",
       "      <th>2</th>\n",
       "      <td>3</td>\n",
       "      <td>20-24</td>\n",
       "      <td>0.0</td>\n",
       "      <td>1.0</td>\n",
       "      <td>0.0</td>\n",
       "      <td>0.0</td>\n",
       "      <td>0.0</td>\n",
       "      <td>1.0</td>\n",
       "      <td>NaN</td>\n",
       "      <td>NaN</td>\n",
       "      <td>...</td>\n",
       "      <td>NaN</td>\n",
       "      <td>NaN</td>\n",
       "      <td>NaN</td>\n",
       "      <td>NaN</td>\n",
       "      <td>NaN</td>\n",
       "      <td>NaN</td>\n",
       "      <td>NaN</td>\n",
       "      <td>NaN</td>\n",
       "      <td>NaN</td>\n",
       "      <td>NaN</td>\n",
       "    </tr>\n",
       "    <tr>\n",
       "      <th>3</th>\n",
       "      <td>4</td>\n",
       "      <td>20-24</td>\n",
       "      <td>NaN</td>\n",
       "      <td>NaN</td>\n",
       "      <td>NaN</td>\n",
       "      <td>NaN</td>\n",
       "      <td>NaN</td>\n",
       "      <td>NaN</td>\n",
       "      <td>NaN</td>\n",
       "      <td>NaN</td>\n",
       "      <td>...</td>\n",
       "      <td>NaN</td>\n",
       "      <td>NaN</td>\n",
       "      <td>NaN</td>\n",
       "      <td>NaN</td>\n",
       "      <td>NaN</td>\n",
       "      <td>NaN</td>\n",
       "      <td>NaN</td>\n",
       "      <td>NaN</td>\n",
       "      <td>NaN</td>\n",
       "      <td>NaN</td>\n",
       "    </tr>\n",
       "    <tr>\n",
       "      <th>4</th>\n",
       "      <td>5</td>\n",
       "      <td>20-24</td>\n",
       "      <td>NaN</td>\n",
       "      <td>NaN</td>\n",
       "      <td>NaN</td>\n",
       "      <td>NaN</td>\n",
       "      <td>NaN</td>\n",
       "      <td>NaN</td>\n",
       "      <td>NaN</td>\n",
       "      <td>NaN</td>\n",
       "      <td>...</td>\n",
       "      <td>NaN</td>\n",
       "      <td>NaN</td>\n",
       "      <td>NaN</td>\n",
       "      <td>NaN</td>\n",
       "      <td>NaN</td>\n",
       "      <td>NaN</td>\n",
       "      <td>NaN</td>\n",
       "      <td>NaN</td>\n",
       "      <td>NaN</td>\n",
       "      <td>NaN</td>\n",
       "    </tr>\n",
       "    <tr>\n",
       "      <th>...</th>\n",
       "      <td>...</td>\n",
       "      <td>...</td>\n",
       "      <td>...</td>\n",
       "      <td>...</td>\n",
       "      <td>...</td>\n",
       "      <td>...</td>\n",
       "      <td>...</td>\n",
       "      <td>...</td>\n",
       "      <td>...</td>\n",
       "      <td>...</td>\n",
       "      <td>...</td>\n",
       "      <td>...</td>\n",
       "      <td>...</td>\n",
       "      <td>...</td>\n",
       "      <td>...</td>\n",
       "      <td>...</td>\n",
       "      <td>...</td>\n",
       "      <td>...</td>\n",
       "      <td>...</td>\n",
       "      <td>...</td>\n",
       "      <td>...</td>\n",
       "    </tr>\n",
       "    <tr>\n",
       "      <th>19995</th>\n",
       "      <td>19996</td>\n",
       "      <td>20-24</td>\n",
       "      <td>NaN</td>\n",
       "      <td>NaN</td>\n",
       "      <td>NaN</td>\n",
       "      <td>NaN</td>\n",
       "      <td>NaN</td>\n",
       "      <td>NaN</td>\n",
       "      <td>NaN</td>\n",
       "      <td>NaN</td>\n",
       "      <td>...</td>\n",
       "      <td>NaN</td>\n",
       "      <td>NaN</td>\n",
       "      <td>NaN</td>\n",
       "      <td>NaN</td>\n",
       "      <td>NaN</td>\n",
       "      <td>NaN</td>\n",
       "      <td>NaN</td>\n",
       "      <td>NaN</td>\n",
       "      <td>NaN</td>\n",
       "      <td>NaN</td>\n",
       "    </tr>\n",
       "    <tr>\n",
       "      <th>19996</th>\n",
       "      <td>19997</td>\n",
       "      <td>NaN</td>\n",
       "      <td>NaN</td>\n",
       "      <td>NaN</td>\n",
       "      <td>NaN</td>\n",
       "      <td>NaN</td>\n",
       "      <td>NaN</td>\n",
       "      <td>NaN</td>\n",
       "      <td>NaN</td>\n",
       "      <td>NaN</td>\n",
       "      <td>...</td>\n",
       "      <td>NaN</td>\n",
       "      <td>NaN</td>\n",
       "      <td>NaN</td>\n",
       "      <td>NaN</td>\n",
       "      <td>NaN</td>\n",
       "      <td>NaN</td>\n",
       "      <td>0.0</td>\n",
       "      <td>0.0</td>\n",
       "      <td>0.0</td>\n",
       "      <td>1.0</td>\n",
       "    </tr>\n",
       "    <tr>\n",
       "      <th>19997</th>\n",
       "      <td>19998</td>\n",
       "      <td>20-24</td>\n",
       "      <td>NaN</td>\n",
       "      <td>NaN</td>\n",
       "      <td>NaN</td>\n",
       "      <td>NaN</td>\n",
       "      <td>NaN</td>\n",
       "      <td>NaN</td>\n",
       "      <td>NaN</td>\n",
       "      <td>NaN</td>\n",
       "      <td>...</td>\n",
       "      <td>NaN</td>\n",
       "      <td>NaN</td>\n",
       "      <td>NaN</td>\n",
       "      <td>NaN</td>\n",
       "      <td>NaN</td>\n",
       "      <td>NaN</td>\n",
       "      <td>NaN</td>\n",
       "      <td>NaN</td>\n",
       "      <td>NaN</td>\n",
       "      <td>NaN</td>\n",
       "    </tr>\n",
       "    <tr>\n",
       "      <th>19998</th>\n",
       "      <td>19999</td>\n",
       "      <td>20-24</td>\n",
       "      <td>NaN</td>\n",
       "      <td>NaN</td>\n",
       "      <td>NaN</td>\n",
       "      <td>NaN</td>\n",
       "      <td>NaN</td>\n",
       "      <td>NaN</td>\n",
       "      <td>NaN</td>\n",
       "      <td>NaN</td>\n",
       "      <td>...</td>\n",
       "      <td>NaN</td>\n",
       "      <td>NaN</td>\n",
       "      <td>NaN</td>\n",
       "      <td>NaN</td>\n",
       "      <td>NaN</td>\n",
       "      <td>NaN</td>\n",
       "      <td>NaN</td>\n",
       "      <td>NaN</td>\n",
       "      <td>NaN</td>\n",
       "      <td>NaN</td>\n",
       "    </tr>\n",
       "    <tr>\n",
       "      <th>19999</th>\n",
       "      <td>20000</td>\n",
       "      <td>15-19</td>\n",
       "      <td>NaN</td>\n",
       "      <td>NaN</td>\n",
       "      <td>NaN</td>\n",
       "      <td>NaN</td>\n",
       "      <td>NaN</td>\n",
       "      <td>NaN</td>\n",
       "      <td>NaN</td>\n",
       "      <td>NaN</td>\n",
       "      <td>...</td>\n",
       "      <td>NaN</td>\n",
       "      <td>NaN</td>\n",
       "      <td>NaN</td>\n",
       "      <td>NaN</td>\n",
       "      <td>NaN</td>\n",
       "      <td>NaN</td>\n",
       "      <td>NaN</td>\n",
       "      <td>NaN</td>\n",
       "      <td>NaN</td>\n",
       "      <td>NaN</td>\n",
       "    </tr>\n",
       "  </tbody>\n",
       "</table>\n",
       "<p>20000 rows × 322 columns</p>\n",
       "</div>"
      ],
      "text/plain": [
       "       AnalizID yasGroup  q_1_Tampon-Ped Değiştirme  q_1_Su İçme  q_1_Uyku  \\\n",
       "0             1    20-24                        NaN          NaN       NaN   \n",
       "1             2    15-19                        NaN          NaN       NaN   \n",
       "2             3    20-24                        0.0          1.0       0.0   \n",
       "3             4    20-24                        NaN          NaN       NaN   \n",
       "4             5    20-24                        NaN          NaN       NaN   \n",
       "...         ...      ...                        ...          ...       ...   \n",
       "19995     19996    20-24                        NaN          NaN       NaN   \n",
       "19996     19997      NaN                        NaN          NaN       NaN   \n",
       "19997     19998    20-24                        NaN          NaN       NaN   \n",
       "19998     19999    20-24                        NaN          NaN       NaN   \n",
       "19999     20000    15-19                        NaN          NaN       NaN   \n",
       "\n",
       "       q_1_İlaç  q_2_Düzensiz  q_2_Düzenli  q_3_Mükemmel olur!  \\\n",
       "0           NaN           NaN          NaN                 NaN   \n",
       "1           NaN           NaN          NaN                 NaN   \n",
       "2           0.0           0.0          1.0                 NaN   \n",
       "3           NaN           NaN          NaN                 NaN   \n",
       "4           NaN           NaN          NaN                 NaN   \n",
       "...         ...           ...          ...                 ...   \n",
       "19995       NaN           NaN          NaN                 NaN   \n",
       "19996       NaN           NaN          NaN                 NaN   \n",
       "19997       NaN           NaN          NaN                 NaN   \n",
       "19998       NaN           NaN          NaN                 NaN   \n",
       "19999       NaN           NaN          NaN                 NaN   \n",
       "\n",
       "       q_3_Yok canım daha neler!  ...  q_114_200 TL - 499 TL  \\\n",
       "0                            NaN  ...                    NaN   \n",
       "1                            NaN  ...                    NaN   \n",
       "2                            NaN  ...                    NaN   \n",
       "3                            NaN  ...                    NaN   \n",
       "4                            NaN  ...                    NaN   \n",
       "...                          ...  ...                    ...   \n",
       "19995                        NaN  ...                    NaN   \n",
       "19996                        NaN  ...                    NaN   \n",
       "19997                        NaN  ...                    NaN   \n",
       "19998                        NaN  ...                    NaN   \n",
       "19999                        NaN  ...                    NaN   \n",
       "\n",
       "       q_114_500 TL – 999 TL  q_114_1.000 TL – 1.999 TL  \\\n",
       "0                        NaN                        NaN   \n",
       "1                        NaN                        NaN   \n",
       "2                        NaN                        NaN   \n",
       "3                        NaN                        NaN   \n",
       "4                        NaN                        NaN   \n",
       "...                      ...                        ...   \n",
       "19995                    NaN                        NaN   \n",
       "19996                    NaN                        NaN   \n",
       "19997                    NaN                        NaN   \n",
       "19998                    NaN                        NaN   \n",
       "19999                    NaN                        NaN   \n",
       "\n",
       "       q_114_2.000 TL - 2.999 TL  q_114_5.000 TL ve üstü  \\\n",
       "0                            NaN                     NaN   \n",
       "1                            NaN                     NaN   \n",
       "2                            NaN                     NaN   \n",
       "3                            NaN                     NaN   \n",
       "4                            NaN                     NaN   \n",
       "...                          ...                     ...   \n",
       "19995                        NaN                     NaN   \n",
       "19996                        NaN                     NaN   \n",
       "19997                        NaN                     NaN   \n",
       "19998                        NaN                     NaN   \n",
       "19999                        NaN                     NaN   \n",
       "\n",
       "       q_114_3.000 TL - 4.999 TL  q_115_Sanırım biraz daha beklemem gerekir.  \\\n",
       "0                            NaN                                         NaN   \n",
       "1                            NaN                                         NaN   \n",
       "2                            NaN                                         NaN   \n",
       "3                            NaN                                         NaN   \n",
       "4                            NaN                                         NaN   \n",
       "...                          ...                                         ...   \n",
       "19995                        NaN                                         NaN   \n",
       "19996                        NaN                                         0.0   \n",
       "19997                        NaN                                         NaN   \n",
       "19998                        NaN                                         NaN   \n",
       "19999                        NaN                                         NaN   \n",
       "\n",
       "       q_115_Gelirim/harçlığım genellikle yeterli, çok beğenirsem alırım.  \\\n",
       "0                                                    NaN                    \n",
       "1                                                    NaN                    \n",
       "2                                                    NaN                    \n",
       "3                                                    NaN                    \n",
       "4                                                    NaN                    \n",
       "...                                                  ...                    \n",
       "19995                                                NaN                    \n",
       "19996                                                0.0                    \n",
       "19997                                                NaN                    \n",
       "19998                                                NaN                    \n",
       "19999                                                NaN                    \n",
       "\n",
       "       q_115_Her zaman yedekte param var ve gerekirse kullanırım.  \\\n",
       "0                                                    NaN            \n",
       "1                                                    NaN            \n",
       "2                                                    NaN            \n",
       "3                                                    NaN            \n",
       "4                                                    NaN            \n",
       "...                                                  ...            \n",
       "19995                                                NaN            \n",
       "19996                                                0.0            \n",
       "19997                                                NaN            \n",
       "19998                                                NaN            \n",
       "19999                                                NaN            \n",
       "\n",
       "       q_115_Sevdiklerim sayesinde ilk doğum günümde aldırırım.  \n",
       "0                                                    NaN         \n",
       "1                                                    NaN         \n",
       "2                                                    NaN         \n",
       "3                                                    NaN         \n",
       "4                                                    NaN         \n",
       "...                                                  ...         \n",
       "19995                                                NaN         \n",
       "19996                                                1.0         \n",
       "19997                                                NaN         \n",
       "19998                                                NaN         \n",
       "19999                                                NaN         \n",
       "\n",
       "[20000 rows x 322 columns]"
      ]
     },
     "execution_count": 161,
     "metadata": {},
     "output_type": "execute_result"
    }
   ],
   "source": [
    "df"
   ]
  },
  {
   "cell_type": "code",
   "execution_count": 162,
   "id": "fifth-advertising",
   "metadata": {},
   "outputs": [
    {
     "data": {
      "text/plain": [
       "Index(['q_1_Tampon-Ped Değiştirme', 'q_1_Su İçme', 'q_1_Uyku', 'q_1_İlaç',\n",
       "       'q_2_Düzensiz', 'q_2_Düzenli', 'q_3_Mükemmel olur!',\n",
       "       'q_3_Yok canım daha neler!', 'q_4_A) Evet ?', 'q_4_B) A',\n",
       "       ...\n",
       "       'q_114_200 TL - 499 TL', 'q_114_500 TL – 999 TL',\n",
       "       'q_114_1.000 TL – 1.999 TL', 'q_114_2.000 TL - 2.999 TL',\n",
       "       'q_114_5.000 TL ve üstü', 'q_114_3.000 TL - 4.999 TL',\n",
       "       'q_115_Sanırım biraz daha beklemem gerekir.',\n",
       "       'q_115_Gelirim/harçlığım genellikle yeterli, çok beğenirsem alırım.',\n",
       "       'q_115_Her zaman yedekte param var ve gerekirse kullanırım.',\n",
       "       'q_115_Sevdiklerim sayesinde ilk doğum günümde aldırırım.'],\n",
       "      dtype='object', length=320)"
      ]
     },
     "execution_count": 162,
     "metadata": {},
     "output_type": "execute_result"
    }
   ],
   "source": [
    "df.columns[2:]"
   ]
  },
  {
   "cell_type": "code",
   "execution_count": 163,
   "id": "proved-flesh",
   "metadata": {},
   "outputs": [],
   "source": [
    "question1=\"Sağlığın için bu çok önemli: Düzenli hareket ediyor musun tatlım?\"\n",
    "question2=\"Spor yapmaya üşenip evde neler yapabilirim diyenlerden misin?\""
   ]
  },
  {
   "cell_type": "code",
   "execution_count": 164,
   "id": "stainless-closer",
   "metadata": {},
   "outputs": [],
   "source": [
    "selected_question1 = df_question[df_question[\"title\"] ==question1][\"question_id\"].tolist()[0]\n"
   ]
  },
  {
   "cell_type": "code",
   "execution_count": 165,
   "id": "fourth-sailing",
   "metadata": {},
   "outputs": [
    {
     "data": {
      "text/plain": [
       "97    101\n",
       "Name: question_id, dtype: int64"
      ]
     },
     "execution_count": 165,
     "metadata": {},
     "output_type": "execute_result"
    }
   ],
   "source": [
    "df_question[df_question[\"title\"] ==question2][\"question_id\"]"
   ]
  },
  {
   "cell_type": "code",
   "execution_count": 166,
   "id": "minus-cloud",
   "metadata": {},
   "outputs": [],
   "source": [
    "selected_question2 = df_question[df_question[\"title\"] ==question2][\"question_id\"].tolist()[0]"
   ]
  },
  {
   "cell_type": "code",
   "execution_count": 167,
   "id": "medium-indication",
   "metadata": {},
   "outputs": [],
   "source": [
    "filter1=[i for i in df.columns[2:] if (int(i.split(\"_\")[1])==selected_question1)]"
   ]
  },
  {
   "cell_type": "code",
   "execution_count": 168,
   "id": "modified-neighbor",
   "metadata": {},
   "outputs": [
    {
     "data": {
      "text/plain": [
       "['q_100_Hayır', 'q_100_Evet!']"
      ]
     },
     "execution_count": 168,
     "metadata": {},
     "output_type": "execute_result"
    }
   ],
   "source": [
    "filter1"
   ]
  },
  {
   "cell_type": "code",
   "execution_count": 169,
   "id": "assisted-slide",
   "metadata": {},
   "outputs": [],
   "source": [
    "filter2=[i for i in df.columns[2:] if (int(i.split(\"_\")[1])==selected_question2)]"
   ]
  },
  {
   "cell_type": "code",
   "execution_count": 170,
   "id": "utility-biography",
   "metadata": {},
   "outputs": [],
   "source": [
    "filter3=[i for i in df.columns[2:] if (int(i.split(\"_\")[1])==selected_question1)]\n",
    "filter3.extend(filter2)"
   ]
  },
  {
   "cell_type": "code",
   "execution_count": 171,
   "id": "strong-rachel",
   "metadata": {},
   "outputs": [
    {
     "data": {
      "text/plain": [
       "['q_100_Hayır', 'q_100_Evet!', 'q_101_Evet', 'q_101_Hayır']"
      ]
     },
     "execution_count": 171,
     "metadata": {},
     "output_type": "execute_result"
    }
   ],
   "source": [
    "filter3"
   ]
  },
  {
   "cell_type": "code",
   "execution_count": 172,
   "id": "previous-arizona",
   "metadata": {},
   "outputs": [
    {
     "data": {
      "text/plain": [
       "['q_100_Hayır', 'q_100_Evet!']"
      ]
     },
     "execution_count": 172,
     "metadata": {},
     "output_type": "execute_result"
    }
   ],
   "source": [
    "filter1"
   ]
  },
  {
   "cell_type": "code",
   "execution_count": 173,
   "id": "driven-playlist",
   "metadata": {},
   "outputs": [],
   "source": [
    "df_filtered=df.loc[:,filter3]"
   ]
  },
  {
   "cell_type": "code",
   "execution_count": 174,
   "id": "removable-greensboro",
   "metadata": {},
   "outputs": [
    {
     "data": {
      "text/plain": [
       "['q_101_Evet', 'q_101_Hayır']"
      ]
     },
     "execution_count": 174,
     "metadata": {},
     "output_type": "execute_result"
    }
   ],
   "source": [
    "filter2"
   ]
  },
  {
   "cell_type": "code",
   "execution_count": null,
   "id": "possible-puzzle",
   "metadata": {},
   "outputs": [],
   "source": []
  },
  {
   "cell_type": "code",
   "execution_count": 175,
   "id": "increased-vessel",
   "metadata": {},
   "outputs": [
    {
     "data": {
      "text/html": [
       "<div>\n",
       "<style scoped>\n",
       "    .dataframe tbody tr th:only-of-type {\n",
       "        vertical-align: middle;\n",
       "    }\n",
       "\n",
       "    .dataframe tbody tr th {\n",
       "        vertical-align: top;\n",
       "    }\n",
       "\n",
       "    .dataframe thead th {\n",
       "        text-align: right;\n",
       "    }\n",
       "</style>\n",
       "<table border=\"1\" class=\"dataframe\">\n",
       "  <thead>\n",
       "    <tr style=\"text-align: right;\">\n",
       "      <th></th>\n",
       "      <th>Spor yapmaya üşenip evde neler yapabilirim diyenlerden misin? :  Evet</th>\n",
       "      <th>Spor yapmaya üşenip evde neler yapabilirim diyenlerden misin? :  Hayır</th>\n",
       "    </tr>\n",
       "  </thead>\n",
       "  <tbody>\n",
       "    <tr>\n",
       "      <th>Spor yapmaya üşenip evde neler yapabilirim diyenlerden misin? :  Evet!</th>\n",
       "      <td>186.0</td>\n",
       "      <td>94.0</td>\n",
       "    </tr>\n",
       "    <tr>\n",
       "      <th>Spor yapmaya üşenip evde neler yapabilirim diyenlerden misin? :  Hayır</th>\n",
       "      <td>318.0</td>\n",
       "      <td>74.0</td>\n",
       "    </tr>\n",
       "  </tbody>\n",
       "</table>\n",
       "</div>"
      ],
      "text/plain": [
       "                                                    Spor yapmaya üşenip evde neler yapabilirim diyenlerden misin? :  Evet  \\\n",
       "Spor yapmaya üşenip evde neler yapabilirim diye...                                              186.0                       \n",
       "Spor yapmaya üşenip evde neler yapabilirim diye...                                              318.0                       \n",
       "\n",
       "                                                    Spor yapmaya üşenip evde neler yapabilirim diyenlerden misin? :  Hayır  \n",
       "Spor yapmaya üşenip evde neler yapabilirim diye...                                               94.0                       \n",
       "Spor yapmaya üşenip evde neler yapabilirim diye...                                               74.0                       "
      ]
     },
     "execution_count": 175,
     "metadata": {},
     "output_type": "execute_result"
    }
   ],
   "source": [
    "df_groupby1"
   ]
  },
  {
   "cell_type": "code",
   "execution_count": 176,
   "id": "dried-creator",
   "metadata": {},
   "outputs": [
    {
     "ename": "AssertionError",
     "evalue": "End slice bound is non-scalar",
     "output_type": "error",
     "traceback": [
      "\u001b[1;31m---------------------------------------------------------------------------\u001b[0m",
      "\u001b[1;31mAssertionError\u001b[0m                            Traceback (most recent call last)",
      "\u001b[1;32m<ipython-input-176-baf252122c18>\u001b[0m in \u001b[0;36m<module>\u001b[1;34m\u001b[0m\n\u001b[0;32m      8\u001b[0m \u001b[0mfilter3\u001b[0m\u001b[1;33m.\u001b[0m\u001b[0mextend\u001b[0m\u001b[1;33m(\u001b[0m\u001b[0mfilter2\u001b[0m\u001b[1;33m)\u001b[0m\u001b[1;33m\u001b[0m\u001b[1;33m\u001b[0m\u001b[0m\n\u001b[0;32m      9\u001b[0m \u001b[0mdf_filtered\u001b[0m\u001b[1;33m=\u001b[0m\u001b[0mdf\u001b[0m\u001b[1;33m.\u001b[0m\u001b[0mloc\u001b[0m\u001b[1;33m[\u001b[0m\u001b[1;33m:\u001b[0m\u001b[1;33m,\u001b[0m\u001b[0mfilter3\u001b[0m\u001b[1;33m]\u001b[0m\u001b[1;33m\u001b[0m\u001b[1;33m\u001b[0m\u001b[0m\n\u001b[1;32m---> 10\u001b[1;33m \u001b[0mdf_filtered1\u001b[0m \u001b[1;33m=\u001b[0m \u001b[0mdf\u001b[0m\u001b[1;33m.\u001b[0m\u001b[0mloc\u001b[0m\u001b[1;33m[\u001b[0m\u001b[1;33m:\u001b[0m\u001b[0mfilter1\u001b[0m\u001b[1;33m]\u001b[0m\u001b[1;33m\u001b[0m\u001b[1;33m\u001b[0m\u001b[0m\n\u001b[0m\u001b[0;32m     11\u001b[0m \u001b[0mdf_groupby1\u001b[0m\u001b[1;33m=\u001b[0m\u001b[0mdf_filtered\u001b[0m\u001b[1;33m.\u001b[0m\u001b[0mgroupby\u001b[0m\u001b[1;33m(\u001b[0m\u001b[0mfilter1\u001b[0m\u001b[1;33m)\u001b[0m\u001b[1;33m[\u001b[0m\u001b[0mfilter2\u001b[0m\u001b[1;33m]\u001b[0m\u001b[1;33m.\u001b[0m\u001b[0msum\u001b[0m\u001b[1;33m(\u001b[0m\u001b[1;33m)\u001b[0m\u001b[1;33m\u001b[0m\u001b[1;33m\u001b[0m\u001b[0m\n\u001b[0;32m     12\u001b[0m \u001b[0mdf_groupb2\u001b[0m\u001b[1;33m=\u001b[0m\u001b[0mdf_groupby1\u001b[0m\u001b[1;33m.\u001b[0m\u001b[0mreset_index\u001b[0m\u001b[1;33m(\u001b[0m\u001b[1;33m)\u001b[0m\u001b[1;33m\u001b[0m\u001b[1;33m\u001b[0m\u001b[0m\n",
      "\u001b[1;32mc:\\users\\mwolf\\anaconda3\\envs\\charts_projects\\lib\\site-packages\\pandas\\core\\indexing.py\u001b[0m in \u001b[0;36m__getitem__\u001b[1;34m(self, key)\u001b[0m\n\u001b[0;32m    893\u001b[0m \u001b[1;33m\u001b[0m\u001b[0m\n\u001b[0;32m    894\u001b[0m             \u001b[0mmaybe_callable\u001b[0m \u001b[1;33m=\u001b[0m \u001b[0mcom\u001b[0m\u001b[1;33m.\u001b[0m\u001b[0mapply_if_callable\u001b[0m\u001b[1;33m(\u001b[0m\u001b[0mkey\u001b[0m\u001b[1;33m,\u001b[0m \u001b[0mself\u001b[0m\u001b[1;33m.\u001b[0m\u001b[0mobj\u001b[0m\u001b[1;33m)\u001b[0m\u001b[1;33m\u001b[0m\u001b[1;33m\u001b[0m\u001b[0m\n\u001b[1;32m--> 895\u001b[1;33m             \u001b[1;32mreturn\u001b[0m \u001b[0mself\u001b[0m\u001b[1;33m.\u001b[0m\u001b[0m_getitem_axis\u001b[0m\u001b[1;33m(\u001b[0m\u001b[0mmaybe_callable\u001b[0m\u001b[1;33m,\u001b[0m \u001b[0maxis\u001b[0m\u001b[1;33m=\u001b[0m\u001b[0maxis\u001b[0m\u001b[1;33m)\u001b[0m\u001b[1;33m\u001b[0m\u001b[1;33m\u001b[0m\u001b[0m\n\u001b[0m\u001b[0;32m    896\u001b[0m \u001b[1;33m\u001b[0m\u001b[0m\n\u001b[0;32m    897\u001b[0m     \u001b[1;32mdef\u001b[0m \u001b[0m_is_scalar_access\u001b[0m\u001b[1;33m(\u001b[0m\u001b[0mself\u001b[0m\u001b[1;33m,\u001b[0m \u001b[0mkey\u001b[0m\u001b[1;33m:\u001b[0m \u001b[0mTuple\u001b[0m\u001b[1;33m)\u001b[0m\u001b[1;33m:\u001b[0m\u001b[1;33m\u001b[0m\u001b[1;33m\u001b[0m\u001b[0m\n",
      "\u001b[1;32mc:\\users\\mwolf\\anaconda3\\envs\\charts_projects\\lib\\site-packages\\pandas\\core\\indexing.py\u001b[0m in \u001b[0;36m_getitem_axis\u001b[1;34m(self, key, axis)\u001b[0m\n\u001b[0;32m   1100\u001b[0m         \u001b[1;32mif\u001b[0m \u001b[0misinstance\u001b[0m\u001b[1;33m(\u001b[0m\u001b[0mkey\u001b[0m\u001b[1;33m,\u001b[0m \u001b[0mslice\u001b[0m\u001b[1;33m)\u001b[0m\u001b[1;33m:\u001b[0m\u001b[1;33m\u001b[0m\u001b[1;33m\u001b[0m\u001b[0m\n\u001b[0;32m   1101\u001b[0m             \u001b[0mself\u001b[0m\u001b[1;33m.\u001b[0m\u001b[0m_validate_key\u001b[0m\u001b[1;33m(\u001b[0m\u001b[0mkey\u001b[0m\u001b[1;33m,\u001b[0m \u001b[0maxis\u001b[0m\u001b[1;33m)\u001b[0m\u001b[1;33m\u001b[0m\u001b[1;33m\u001b[0m\u001b[0m\n\u001b[1;32m-> 1102\u001b[1;33m             \u001b[1;32mreturn\u001b[0m \u001b[0mself\u001b[0m\u001b[1;33m.\u001b[0m\u001b[0m_get_slice_axis\u001b[0m\u001b[1;33m(\u001b[0m\u001b[0mkey\u001b[0m\u001b[1;33m,\u001b[0m \u001b[0maxis\u001b[0m\u001b[1;33m=\u001b[0m\u001b[0maxis\u001b[0m\u001b[1;33m)\u001b[0m\u001b[1;33m\u001b[0m\u001b[1;33m\u001b[0m\u001b[0m\n\u001b[0m\u001b[0;32m   1103\u001b[0m         \u001b[1;32melif\u001b[0m \u001b[0mcom\u001b[0m\u001b[1;33m.\u001b[0m\u001b[0mis_bool_indexer\u001b[0m\u001b[1;33m(\u001b[0m\u001b[0mkey\u001b[0m\u001b[1;33m)\u001b[0m\u001b[1;33m:\u001b[0m\u001b[1;33m\u001b[0m\u001b[1;33m\u001b[0m\u001b[0m\n\u001b[0;32m   1104\u001b[0m             \u001b[1;32mreturn\u001b[0m \u001b[0mself\u001b[0m\u001b[1;33m.\u001b[0m\u001b[0m_getbool_axis\u001b[0m\u001b[1;33m(\u001b[0m\u001b[0mkey\u001b[0m\u001b[1;33m,\u001b[0m \u001b[0maxis\u001b[0m\u001b[1;33m=\u001b[0m\u001b[0maxis\u001b[0m\u001b[1;33m)\u001b[0m\u001b[1;33m\u001b[0m\u001b[1;33m\u001b[0m\u001b[0m\n",
      "\u001b[1;32mc:\\users\\mwolf\\anaconda3\\envs\\charts_projects\\lib\\site-packages\\pandas\\core\\indexing.py\u001b[0m in \u001b[0;36m_get_slice_axis\u001b[1;34m(self, slice_obj, axis)\u001b[0m\n\u001b[0;32m   1135\u001b[0m         \u001b[0mlabels\u001b[0m \u001b[1;33m=\u001b[0m \u001b[0mobj\u001b[0m\u001b[1;33m.\u001b[0m\u001b[0m_get_axis\u001b[0m\u001b[1;33m(\u001b[0m\u001b[0maxis\u001b[0m\u001b[1;33m)\u001b[0m\u001b[1;33m\u001b[0m\u001b[1;33m\u001b[0m\u001b[0m\n\u001b[0;32m   1136\u001b[0m         indexer = labels.slice_indexer(\n\u001b[1;32m-> 1137\u001b[1;33m             \u001b[0mslice_obj\u001b[0m\u001b[1;33m.\u001b[0m\u001b[0mstart\u001b[0m\u001b[1;33m,\u001b[0m \u001b[0mslice_obj\u001b[0m\u001b[1;33m.\u001b[0m\u001b[0mstop\u001b[0m\u001b[1;33m,\u001b[0m \u001b[0mslice_obj\u001b[0m\u001b[1;33m.\u001b[0m\u001b[0mstep\u001b[0m\u001b[1;33m,\u001b[0m \u001b[0mkind\u001b[0m\u001b[1;33m=\u001b[0m\u001b[1;34m\"loc\"\u001b[0m\u001b[1;33m\u001b[0m\u001b[1;33m\u001b[0m\u001b[0m\n\u001b[0m\u001b[0;32m   1138\u001b[0m         )\n\u001b[0;32m   1139\u001b[0m \u001b[1;33m\u001b[0m\u001b[0m\n",
      "\u001b[1;32mc:\\users\\mwolf\\anaconda3\\envs\\charts_projects\\lib\\site-packages\\pandas\\core\\indexes\\base.py\u001b[0m in \u001b[0;36mslice_indexer\u001b[1;34m(self, start, end, step, kind)\u001b[0m\n\u001b[0;32m   5281\u001b[0m             \u001b[1;32mraise\u001b[0m \u001b[0mAssertionError\u001b[0m\u001b[1;33m(\u001b[0m\u001b[1;34m\"Start slice bound is non-scalar\"\u001b[0m\u001b[1;33m)\u001b[0m\u001b[1;33m\u001b[0m\u001b[1;33m\u001b[0m\u001b[0m\n\u001b[0;32m   5282\u001b[0m         \u001b[1;32mif\u001b[0m \u001b[1;32mnot\u001b[0m \u001b[0mis_scalar\u001b[0m\u001b[1;33m(\u001b[0m\u001b[0mend_slice\u001b[0m\u001b[1;33m)\u001b[0m\u001b[1;33m:\u001b[0m\u001b[1;33m\u001b[0m\u001b[1;33m\u001b[0m\u001b[0m\n\u001b[1;32m-> 5283\u001b[1;33m             \u001b[1;32mraise\u001b[0m \u001b[0mAssertionError\u001b[0m\u001b[1;33m(\u001b[0m\u001b[1;34m\"End slice bound is non-scalar\"\u001b[0m\u001b[1;33m)\u001b[0m\u001b[1;33m\u001b[0m\u001b[1;33m\u001b[0m\u001b[0m\n\u001b[0m\u001b[0;32m   5284\u001b[0m \u001b[1;33m\u001b[0m\u001b[0m\n\u001b[0;32m   5285\u001b[0m         \u001b[1;32mreturn\u001b[0m \u001b[0mslice\u001b[0m\u001b[1;33m(\u001b[0m\u001b[0mstart_slice\u001b[0m\u001b[1;33m,\u001b[0m \u001b[0mend_slice\u001b[0m\u001b[1;33m,\u001b[0m \u001b[0mstep\u001b[0m\u001b[1;33m)\u001b[0m\u001b[1;33m\u001b[0m\u001b[1;33m\u001b[0m\u001b[0m\n",
      "\u001b[1;31mAssertionError\u001b[0m: End slice bound is non-scalar"
     ]
    }
   ],
   "source": [
    "question1=\"Sağlığın için bu çok önemli: Düzenli hareket ediyor musun tatlım?\"\n",
    "question2=\"Spor yapmaya üşenip evde neler yapabilirim diyenlerden misin?\"\n",
    "selected_question1 = df_question[df_question[\"title\"] ==question1][\"question_id\"].tolist()[0]\n",
    "selected_question2 = df_question[df_question[\"title\"] ==question2][\"question_id\"].tolist()[0]\n",
    "filter1=[i for i in df.columns[2:] if (int(i.split(\"_\")[1])==selected_question1)]\n",
    "filter2=[i for i in df.columns[2:] if (int(i.split(\"_\")[1])==selected_question2)]\n",
    "filter3=[i for i in df.columns[2:] if (int(i.split(\"_\")[1])==selected_question1)]\n",
    "filter3.extend(filter2)\n",
    "df_filtered=df.loc[:,filter3]\n",
    "df_filtered1 = df.loc[:filter1]\n",
    "df_groupby1=df_filtered.groupby(filter1)[filter2].sum()\n",
    "df_groupb2=df_groupby1.reset_index()\n",
    "df_groupb2[\"index\"]=df_groupb2.index\n",
    "for i in filter1:\n",
    "    for value in range(0,len(df_groupb2[i])):\n",
    "        if df_groupb2[i][value]==1.0:\n",
    "            df_groupb2[\"index\"][value]=i\n",
    "\n",
    "    \n",
    "df_groupby1.index=df_groupb2[\"index\"]\n",
    "df_groupby1"
   ]
  },
  {
   "cell_type": "code",
   "execution_count": null,
   "id": "minimal-warrant",
   "metadata": {},
   "outputs": [],
   "source": [
    "my_cross_charts1={}\n",
    "my_cross_charts2={}"
   ]
  },
  {
   "cell_type": "code",
   "execution_count": 89,
   "id": "regional-bangkok",
   "metadata": {},
   "outputs": [],
   "source": [
    "count_first_chart=df_filtered[filter1].dropna().count()[0]\n",
    "count_second_chart=df_filtered[filter2].dropna().count()[0]"
   ]
  },
  {
   "cell_type": "code",
   "execution_count": 92,
   "id": "resistant-fisher",
   "metadata": {},
   "outputs": [
    {
     "data": {
      "text/plain": [
       "867"
      ]
     },
     "execution_count": 92,
     "metadata": {},
     "output_type": "execute_result"
    }
   ],
   "source": [
    "count_first_chart"
   ]
  },
  {
   "cell_type": "code",
   "execution_count": 91,
   "id": "coral-niagara",
   "metadata": {},
   "outputs": [
    {
     "data": {
      "text/plain": [
       "1151"
      ]
     },
     "execution_count": 91,
     "metadata": {},
     "output_type": "execute_result"
    }
   ],
   "source": [
    "count_second_chart"
   ]
  },
  {
   "cell_type": "code",
   "execution_count": 139,
   "id": "opposite-stability",
   "metadata": {},
   "outputs": [],
   "source": [
    "my_cross_charts1={}\n",
    "my_cross_charts2={}\n",
    "count_first_chart=df_filtered[filter1].dropna().count()[0]\n",
    "count_second_chart=df_filtered[filter2].dropna().count()[0]\n",
    "df_filtered1=df_filtered[filter1].dropna()\n",
    "df_filtered2=df_filtered[filter2].dropna()\n",
    "for i in df_filtered1.columns:\n",
    "    df_filtered1[i] = df_filtered1[i].sum()\n",
    "df_filtered1=df_filtered1.reset_index(drop=True).iloc[0:1,:]\n",
    "for i in df_filtered2.columns:\n",
    "    df_filtered2[i] = df_filtered2[i].sum()\n",
    "df_filtered2=df_filtered2.reset_index(drop=True).iloc[0:1,:]\n",
    "df_filtered2.columns=[(i.split(\"_\")[2]) for i in df_filtered2.columns]\n",
    "df_filtered1.columns=[(i.split(\"_\")[2]) for i in df_filtered1.columns]\n",
    "my_cross_charts1[\"data1\"]=[]\n",
    "for i in range(len(df_filtered1.columns)):\n",
    "       my_cross_charts1[\"data1\"].append([round((i/count_first_chart)*100,2) for i in df_filtered1.iloc[:,i]]))\n",
    "my_cross_charts2[\"data2\"]=[]\n",
    "for i in range(len(df_filtered2.columns)):\n",
    "       my_cross_charts2[\"data2\"].append([round((i/count_second_chart)*100,2) for i in df_filtered2.iloc[:,i]])\n"
   ]
  },
  {
   "cell_type": "code",
   "execution_count": 140,
   "id": "indie-persian",
   "metadata": {},
   "outputs": [
    {
     "data": {
      "text/html": [
       "<div>\n",
       "<style scoped>\n",
       "    .dataframe tbody tr th:only-of-type {\n",
       "        vertical-align: middle;\n",
       "    }\n",
       "\n",
       "    .dataframe tbody tr th {\n",
       "        vertical-align: top;\n",
       "    }\n",
       "\n",
       "    .dataframe thead th {\n",
       "        text-align: right;\n",
       "    }\n",
       "</style>\n",
       "<table border=\"1\" class=\"dataframe\">\n",
       "  <thead>\n",
       "    <tr style=\"text-align: right;\">\n",
       "      <th></th>\n",
       "      <th>Evet</th>\n",
       "      <th>Hayır</th>\n",
       "    </tr>\n",
       "  </thead>\n",
       "  <tbody>\n",
       "    <tr>\n",
       "      <th>0</th>\n",
       "      <td>876.0</td>\n",
       "      <td>275.0</td>\n",
       "    </tr>\n",
       "  </tbody>\n",
       "</table>\n",
       "</div>"
      ],
      "text/plain": [
       "    Evet  Hayır\n",
       "0  876.0  275.0"
      ]
     },
     "execution_count": 140,
     "metadata": {},
     "output_type": "execute_result"
    }
   ],
   "source": [
    "df_filtered2"
   ]
  },
  {
   "cell_type": "code",
   "execution_count": 141,
   "id": "efficient-assumption",
   "metadata": {},
   "outputs": [
    {
     "data": {
      "text/plain": [
       "[[76.11], [23.89]]"
      ]
     },
     "execution_count": 141,
     "metadata": {},
     "output_type": "execute_result"
    }
   ],
   "source": [
    "my_cross_charts2[\"data2\"]"
   ]
  },
  {
   "cell_type": "code",
   "execution_count": 133,
   "id": "altered-cleveland",
   "metadata": {},
   "outputs": [],
   "source": []
  },
  {
   "cell_type": "code",
   "execution_count": 134,
   "id": "designing-boston",
   "metadata": {},
   "outputs": [],
   "source": []
  },
  {
   "cell_type": "code",
   "execution_count": 53,
   "id": "sexual-intellectual",
   "metadata": {},
   "outputs": [],
   "source": [
    "col_lenn=len(df_groupby1.columns)"
   ]
  },
  {
   "cell_type": "code",
   "execution_count": 54,
   "id": "religious-roulette",
   "metadata": {},
   "outputs": [],
   "source": [
    "default_color_list = ['rgba(255, 99, 132, 0.4)',\n",
    "                'rgba(54, 162, 235, 0.4)',\n",
    "                'rgba(255, 206, 86, 0.4)',\n",
    "                'rgba(75, 192, 192, 0.4)',\n",
    "                'rgba(153, 102, 255, 0.4)',\n",
    "                'rgba(255, 159, 64, 0.4)',\n",
    "                \"rgba(211, 36, 167, 0.4)\",\n",
    "                \"rgba(183, 2, 63, 0.4)\",\n",
    "                \" rgba(51, 171, 87, 0.4)\",\n",
    "                \"rgba(100, 160, 168, 0.4)\",\n",
    "                \"rgba(16, 150, 166, 0.4)\",\n",
    "                \"rgba(183, 100, 83, 4)\",\n",
    "                \"rgba(193, 18, 35, 4)\",\n",
    "                \"rgba(81, 24, 172, 0.4)\",\n",
    "                \"rgba(212, 122, 166, 0.4)\"]"
   ]
  },
  {
   "cell_type": "code",
   "execution_count": 55,
   "id": "ongoing-norman",
   "metadata": {},
   "outputs": [],
   "source": [
    "selected_color_list =default_color_list[0:col_lenn]"
   ]
  },
  {
   "cell_type": "code",
   "execution_count": 56,
   "id": "polished-romance",
   "metadata": {},
   "outputs": [
    {
     "data": {
      "text/plain": [
       "['rgba(255, 99, 132, 0.4)', 'rgba(54, 162, 235, 0.4)']"
      ]
     },
     "execution_count": 56,
     "metadata": {},
     "output_type": "execute_result"
    }
   ],
   "source": [
    "selected_color_list"
   ]
  },
  {
   "cell_type": "code",
   "execution_count": 57,
   "id": "polished-daniel",
   "metadata": {},
   "outputs": [
    {
     "ename": "ValueError",
     "evalue": "Location based indexing can only have [integer, integer slice (START point is INCLUDED, END point is EXCLUDED), listlike of integers, boolean array] types",
     "output_type": "error",
     "traceback": [
      "\u001b[1;31m---------------------------------------------------------------------------\u001b[0m",
      "\u001b[1;31mValueError\u001b[0m                                Traceback (most recent call last)",
      "\u001b[1;32mc:\\users\\mwolf\\anaconda3\\envs\\charts_projects\\lib\\site-packages\\pandas\\core\\indexing.py\u001b[0m in \u001b[0;36m_has_valid_tuple\u001b[1;34m(self, key)\u001b[0m\n\u001b[0;32m    722\u001b[0m             \u001b[1;32mtry\u001b[0m\u001b[1;33m:\u001b[0m\u001b[1;33m\u001b[0m\u001b[1;33m\u001b[0m\u001b[0m\n\u001b[1;32m--> 723\u001b[1;33m                 \u001b[0mself\u001b[0m\u001b[1;33m.\u001b[0m\u001b[0m_validate_key\u001b[0m\u001b[1;33m(\u001b[0m\u001b[0mk\u001b[0m\u001b[1;33m,\u001b[0m \u001b[0mi\u001b[0m\u001b[1;33m)\u001b[0m\u001b[1;33m\u001b[0m\u001b[1;33m\u001b[0m\u001b[0m\n\u001b[0m\u001b[0;32m    724\u001b[0m             \u001b[1;32mexcept\u001b[0m \u001b[0mValueError\u001b[0m \u001b[1;32mas\u001b[0m \u001b[0merr\u001b[0m\u001b[1;33m:\u001b[0m\u001b[1;33m\u001b[0m\u001b[1;33m\u001b[0m\u001b[0m\n",
      "\u001b[1;32mc:\\users\\mwolf\\anaconda3\\envs\\charts_projects\\lib\\site-packages\\pandas\\core\\indexing.py\u001b[0m in \u001b[0;36m_validate_key\u001b[1;34m(self, key, axis)\u001b[0m\n\u001b[0;32m   1374\u001b[0m         \u001b[1;32melse\u001b[0m\u001b[1;33m:\u001b[0m\u001b[1;33m\u001b[0m\u001b[1;33m\u001b[0m\u001b[0m\n\u001b[1;32m-> 1375\u001b[1;33m             \u001b[1;32mraise\u001b[0m \u001b[0mValueError\u001b[0m\u001b[1;33m(\u001b[0m\u001b[1;34mf\"Can only index by location with a [{self._valid_types}]\"\u001b[0m\u001b[1;33m)\u001b[0m\u001b[1;33m\u001b[0m\u001b[1;33m\u001b[0m\u001b[0m\n\u001b[0m\u001b[0;32m   1376\u001b[0m \u001b[1;33m\u001b[0m\u001b[0m\n",
      "\u001b[1;31mValueError\u001b[0m: Can only index by location with a [integer, integer slice (START point is INCLUDED, END point is EXCLUDED), listlike of integers, boolean array]",
      "\nThe above exception was the direct cause of the following exception:\n",
      "\u001b[1;31mValueError\u001b[0m                                Traceback (most recent call last)",
      "\u001b[1;32m<ipython-input-57-7d11fedca136>\u001b[0m in \u001b[0;36m<module>\u001b[1;34m\u001b[0m\n\u001b[0;32m      4\u001b[0m \u001b[0mdata_color_dict\u001b[0m\u001b[1;33m[\u001b[0m\u001b[1;34m\"color\"\u001b[0m\u001b[1;33m]\u001b[0m\u001b[1;33m=\u001b[0m\u001b[0mdefault_color_list\u001b[0m\u001b[1;33m[\u001b[0m\u001b[1;36m0\u001b[0m\u001b[1;33m:\u001b[0m\u001b[0mcol_lenn\u001b[0m\u001b[1;33m]\u001b[0m\u001b[1;33m\u001b[0m\u001b[1;33m\u001b[0m\u001b[0m\n\u001b[0;32m      5\u001b[0m \u001b[1;32mfor\u001b[0m \u001b[0mi\u001b[0m \u001b[1;32min\u001b[0m \u001b[0mdf_groupby1\u001b[0m\u001b[1;33m.\u001b[0m\u001b[0mcolumns\u001b[0m\u001b[1;33m:\u001b[0m\u001b[1;33m\u001b[0m\u001b[1;33m\u001b[0m\u001b[0m\n\u001b[1;32m----> 6\u001b[1;33m         \u001b[0mdata_color_dict\u001b[0m\u001b[1;33m[\u001b[0m\u001b[0mi\u001b[0m\u001b[1;33m]\u001b[0m\u001b[1;33m=\u001b[0m\u001b[0mlist\u001b[0m\u001b[1;33m(\u001b[0m\u001b[0mdf_groupby1\u001b[0m\u001b[1;33m.\u001b[0m\u001b[0miloc\u001b[0m\u001b[1;33m[\u001b[0m\u001b[1;33m:\u001b[0m\u001b[1;33m,\u001b[0m\u001b[0mi\u001b[0m\u001b[1;33m]\u001b[0m\u001b[1;33m)\u001b[0m\u001b[1;33m\u001b[0m\u001b[1;33m\u001b[0m\u001b[0m\n\u001b[0m",
      "\u001b[1;32mc:\\users\\mwolf\\anaconda3\\envs\\charts_projects\\lib\\site-packages\\pandas\\core\\indexing.py\u001b[0m in \u001b[0;36m__getitem__\u001b[1;34m(self, key)\u001b[0m\n\u001b[0;32m    887\u001b[0m                     \u001b[1;31m# AttributeError for IntervalTree get_value\u001b[0m\u001b[1;33m\u001b[0m\u001b[1;33m\u001b[0m\u001b[1;33m\u001b[0m\u001b[0m\n\u001b[0;32m    888\u001b[0m                     \u001b[1;32mreturn\u001b[0m \u001b[0mself\u001b[0m\u001b[1;33m.\u001b[0m\u001b[0mobj\u001b[0m\u001b[1;33m.\u001b[0m\u001b[0m_get_value\u001b[0m\u001b[1;33m(\u001b[0m\u001b[1;33m*\u001b[0m\u001b[0mkey\u001b[0m\u001b[1;33m,\u001b[0m \u001b[0mtakeable\u001b[0m\u001b[1;33m=\u001b[0m\u001b[0mself\u001b[0m\u001b[1;33m.\u001b[0m\u001b[0m_takeable\u001b[0m\u001b[1;33m)\u001b[0m\u001b[1;33m\u001b[0m\u001b[1;33m\u001b[0m\u001b[0m\n\u001b[1;32m--> 889\u001b[1;33m             \u001b[1;32mreturn\u001b[0m \u001b[0mself\u001b[0m\u001b[1;33m.\u001b[0m\u001b[0m_getitem_tuple\u001b[0m\u001b[1;33m(\u001b[0m\u001b[0mkey\u001b[0m\u001b[1;33m)\u001b[0m\u001b[1;33m\u001b[0m\u001b[1;33m\u001b[0m\u001b[0m\n\u001b[0m\u001b[0;32m    890\u001b[0m         \u001b[1;32melse\u001b[0m\u001b[1;33m:\u001b[0m\u001b[1;33m\u001b[0m\u001b[1;33m\u001b[0m\u001b[0m\n\u001b[0;32m    891\u001b[0m             \u001b[1;31m# we by definition only have the 0th axis\u001b[0m\u001b[1;33m\u001b[0m\u001b[1;33m\u001b[0m\u001b[1;33m\u001b[0m\u001b[0m\n",
      "\u001b[1;32mc:\\users\\mwolf\\anaconda3\\envs\\charts_projects\\lib\\site-packages\\pandas\\core\\indexing.py\u001b[0m in \u001b[0;36m_getitem_tuple\u001b[1;34m(self, tup)\u001b[0m\n\u001b[0;32m   1448\u001b[0m     \u001b[1;32mdef\u001b[0m \u001b[0m_getitem_tuple\u001b[0m\u001b[1;33m(\u001b[0m\u001b[0mself\u001b[0m\u001b[1;33m,\u001b[0m \u001b[0mtup\u001b[0m\u001b[1;33m:\u001b[0m \u001b[0mTuple\u001b[0m\u001b[1;33m)\u001b[0m\u001b[1;33m:\u001b[0m\u001b[1;33m\u001b[0m\u001b[1;33m\u001b[0m\u001b[0m\n\u001b[0;32m   1449\u001b[0m \u001b[1;33m\u001b[0m\u001b[0m\n\u001b[1;32m-> 1450\u001b[1;33m         \u001b[0mself\u001b[0m\u001b[1;33m.\u001b[0m\u001b[0m_has_valid_tuple\u001b[0m\u001b[1;33m(\u001b[0m\u001b[0mtup\u001b[0m\u001b[1;33m)\u001b[0m\u001b[1;33m\u001b[0m\u001b[1;33m\u001b[0m\u001b[0m\n\u001b[0m\u001b[0;32m   1451\u001b[0m         \u001b[1;32mwith\u001b[0m \u001b[0msuppress\u001b[0m\u001b[1;33m(\u001b[0m\u001b[0mIndexingError\u001b[0m\u001b[1;33m)\u001b[0m\u001b[1;33m:\u001b[0m\u001b[1;33m\u001b[0m\u001b[1;33m\u001b[0m\u001b[0m\n\u001b[0;32m   1452\u001b[0m             \u001b[1;32mreturn\u001b[0m \u001b[0mself\u001b[0m\u001b[1;33m.\u001b[0m\u001b[0m_getitem_lowerdim\u001b[0m\u001b[1;33m(\u001b[0m\u001b[0mtup\u001b[0m\u001b[1;33m)\u001b[0m\u001b[1;33m\u001b[0m\u001b[1;33m\u001b[0m\u001b[0m\n",
      "\u001b[1;32mc:\\users\\mwolf\\anaconda3\\envs\\charts_projects\\lib\\site-packages\\pandas\\core\\indexing.py\u001b[0m in \u001b[0;36m_has_valid_tuple\u001b[1;34m(self, key)\u001b[0m\n\u001b[0;32m    726\u001b[0m                     \u001b[1;34m\"Location based indexing can only have \"\u001b[0m\u001b[1;33m\u001b[0m\u001b[1;33m\u001b[0m\u001b[0m\n\u001b[0;32m    727\u001b[0m                     \u001b[1;34mf\"[{self._valid_types}] types\"\u001b[0m\u001b[1;33m\u001b[0m\u001b[1;33m\u001b[0m\u001b[0m\n\u001b[1;32m--> 728\u001b[1;33m                 ) from err\n\u001b[0m\u001b[0;32m    729\u001b[0m \u001b[1;33m\u001b[0m\u001b[0m\n\u001b[0;32m    730\u001b[0m     \u001b[1;32mdef\u001b[0m \u001b[0m_is_nested_tuple_indexer\u001b[0m\u001b[1;33m(\u001b[0m\u001b[0mself\u001b[0m\u001b[1;33m,\u001b[0m \u001b[0mtup\u001b[0m\u001b[1;33m:\u001b[0m \u001b[0mTuple\u001b[0m\u001b[1;33m)\u001b[0m \u001b[1;33m->\u001b[0m \u001b[0mbool\u001b[0m\u001b[1;33m:\u001b[0m\u001b[1;33m\u001b[0m\u001b[1;33m\u001b[0m\u001b[0m\n",
      "\u001b[1;31mValueError\u001b[0m: Location based indexing can only have [integer, integer slice (START point is INCLUDED, END point is EXCLUDED), listlike of integers, boolean array] types"
     ]
    }
   ],
   "source": [
    "data_color_dict={}\n",
    "data_color_dict[\"df_groupby1_index\"] = list(df_groupby1.index)\n",
    "data_color_dict[\"col_lenn\"]=len(df_groupby1.columns)\n",
    "data_color_dict[\"color\"]=default_color_list[0:col_lenn]\n",
    "for i in df_groupby1.columns:\n",
    "        data_color_dict[i]=list(df_groupby1.iloc[:,i])"
   ]
  },
  {
   "cell_type": "code",
   "execution_count": 58,
   "id": "altered-talent",
   "metadata": {},
   "outputs": [
    {
     "ename": "NameError",
     "evalue": "name 'cevap1_selected' is not defined",
     "output_type": "error",
     "traceback": [
      "\u001b[1;31m---------------------------------------------------------------------------\u001b[0m",
      "\u001b[1;31mNameError\u001b[0m                                 Traceback (most recent call last)",
      "\u001b[1;32m<ipython-input-58-0ee7be65a262>\u001b[0m in \u001b[0;36m<module>\u001b[1;34m\u001b[0m\n\u001b[1;32m----> 1\u001b[1;33m \u001b[0mTitle_\u001b[0m\u001b[1;33m=\u001b[0m\u001b[1;34mf\"\"\" \"{question1}\"  sorusuna \"{cevap1_selected}\" verenlerin ve \"{question2}\" sorusuna \"{cevap2_selected}\" verenlerin grafigi \"\"\"\u001b[0m\u001b[1;33m\u001b[0m\u001b[1;33m\u001b[0m\u001b[0m\n\u001b[0m",
      "\u001b[1;31mNameError\u001b[0m: name 'cevap1_selected' is not defined"
     ]
    }
   ],
   "source": [
    "Title_=f\"\"\" \"{question1}\"  sorusuna \"{cevap1_selected}\" verenlerin ve \"{question2}\" sorusuna \"{cevap2_selected}\" verenlerin grafigi \"\"\""
   ]
  },
  {
   "cell_type": "code",
   "execution_count": 59,
   "id": "unique-saint",
   "metadata": {},
   "outputs": [
    {
     "ename": "NameError",
     "evalue": "name 'Title_' is not defined",
     "output_type": "error",
     "traceback": [
      "\u001b[1;31m---------------------------------------------------------------------------\u001b[0m",
      "\u001b[1;31mNameError\u001b[0m                                 Traceback (most recent call last)",
      "\u001b[1;32m<ipython-input-59-d83e2e7926d7>\u001b[0m in \u001b[0;36m<module>\u001b[1;34m\u001b[0m\n\u001b[1;32m----> 1\u001b[1;33m \u001b[0mTitle_\u001b[0m\u001b[1;33m\u001b[0m\u001b[1;33m\u001b[0m\u001b[0m\n\u001b[0m",
      "\u001b[1;31mNameError\u001b[0m: name 'Title_' is not defined"
     ]
    }
   ],
   "source": [
    "Title_"
   ]
  },
  {
   "cell_type": "code",
   "execution_count": 60,
   "id": "violent-textbook",
   "metadata": {},
   "outputs": [],
   "source": [
    "    total_person=df_filtered.dropna().shape[0]\n",
    "    data_color_dict = {}\n",
    "    data_color_dict[\"col_name\"]=df_groupby1.columns\n",
    "    data_color_dict[\"df_groupby1_index\"] = list(df_groupby1.index)\n",
    "    data_color_dict[\"col_lenn\"] = len(df_groupby1.columns)\n",
    "\n",
    "    data_color_dict[\"color\"] = default_color_list[0:data_color_dict[\"col_lenn\"]]\n",
    "    data_color_dict[\"column\"]=[]\n",
    "    for i in range(len(df_groupby1.columns)):\n",
    "        data_color_dict[\"column\"].append([round((i/total_person)*100,2) for i in list(df_groupby1.iloc[:,i])])"
   ]
  },
  {
   "cell_type": "code",
   "execution_count": 61,
   "id": "nuclear-reform",
   "metadata": {},
   "outputs": [
    {
     "data": {
      "text/plain": [
       "[[186.0, 318.0], [94.0, 74.0]]"
      ]
     },
     "execution_count": 61,
     "metadata": {},
     "output_type": "execute_result"
    }
   ],
   "source": [
    " data_color_dict[\"column\"]"
   ]
  },
  {
   "cell_type": "code",
   "execution_count": 62,
   "id": "behavioral-diving",
   "metadata": {},
   "outputs": [
    {
     "data": {
      "text/plain": [
       "['rgba(255, 99, 132, 0.4)', 'rgba(54, 162, 235, 0.4)']"
      ]
     },
     "execution_count": 62,
     "metadata": {},
     "output_type": "execute_result"
    }
   ],
   "source": [
    "data_color_dict[\"color\"]"
   ]
  },
  {
   "cell_type": "code",
   "execution_count": 63,
   "id": "composite-review",
   "metadata": {},
   "outputs": [
    {
     "ename": "NameError",
     "evalue": "name 'my_dict' is not defined",
     "output_type": "error",
     "traceback": [
      "\u001b[1;31m---------------------------------------------------------------------------\u001b[0m",
      "\u001b[1;31mNameError\u001b[0m                                 Traceback (most recent call last)",
      "\u001b[1;32m<ipython-input-63-aa889aa18222>\u001b[0m in \u001b[0;36m<module>\u001b[1;34m\u001b[0m\n\u001b[1;32m----> 1\u001b[1;33m \u001b[0mmy_dict\u001b[0m\u001b[1;33m[\u001b[0m\u001b[1;34m\"df_groupby1_index\"\u001b[0m\u001b[1;33m]\u001b[0m\u001b[1;33m\u001b[0m\u001b[1;33m\u001b[0m\u001b[0m\n\u001b[0m",
      "\u001b[1;31mNameError\u001b[0m: name 'my_dict' is not defined"
     ]
    }
   ],
   "source": [
    "my_dict[\"df_groupby1_index\"]"
   ]
  },
  {
   "cell_type": "code",
   "execution_count": 64,
   "id": "sexual-pension",
   "metadata": {},
   "outputs": [
    {
     "data": {
      "text/plain": [
       "2"
      ]
     },
     "execution_count": 64,
     "metadata": {},
     "output_type": "execute_result"
    }
   ],
   "source": [
    "data_color_dict[\"col_lenn\"]"
   ]
  },
  {
   "cell_type": "code",
   "execution_count": 65,
   "id": "minute-british",
   "metadata": {},
   "outputs": [
    {
     "name": "stdout",
     "output_type": "stream",
     "text": [
      "q_101_Evet\n",
      "[186.0, 318.0]\n",
      "rgba(255, 99, 132, 0.4)\n",
      "q_101_Hayır\n",
      "[94.0, 74.0]\n",
      "rgba(54, 162, 235, 0.4)\n"
     ]
    }
   ],
   "source": [
    "for i in range(data_color_dict[\"col_lenn\"]):\n",
    "               print(data_color_dict[\"col_name\"][i])\n",
    "               print(data_color_dict[\"column\"][i])\n",
    "               print(data_color_dict[\"color\"][i])\n",
    "               "
   ]
  },
  {
   "cell_type": "code",
   "execution_count": 66,
   "id": "respiratory-slope",
   "metadata": {},
   "outputs": [],
   "source": [
    "df_groupby1.columns=[(i.split(\"_\")[2]) for i in df_groupby1.columns]"
   ]
  },
  {
   "cell_type": "code",
   "execution_count": 67,
   "id": "stainless-template",
   "metadata": {},
   "outputs": [],
   "source": [
    "df_groupby1.index=[i.split(\"_\")[2] for i in df_groupby1.index]"
   ]
  },
  {
   "cell_type": "code",
   "execution_count": 68,
   "id": "vanilla-luxembourg",
   "metadata": {},
   "outputs": [
    {
     "data": {
      "text/html": [
       "<div>\n",
       "<style scoped>\n",
       "    .dataframe tbody tr th:only-of-type {\n",
       "        vertical-align: middle;\n",
       "    }\n",
       "\n",
       "    .dataframe tbody tr th {\n",
       "        vertical-align: top;\n",
       "    }\n",
       "\n",
       "    .dataframe thead th {\n",
       "        text-align: right;\n",
       "    }\n",
       "</style>\n",
       "<table border=\"1\" class=\"dataframe\">\n",
       "  <thead>\n",
       "    <tr style=\"text-align: right;\">\n",
       "      <th></th>\n",
       "      <th>Spor yapmaya üşenip evde neler yapabilirim diyenlerden misin? :  Evet</th>\n",
       "      <th>Spor yapmaya üşenip evde neler yapabilirim diyenlerden misin? :  Hayır</th>\n",
       "    </tr>\n",
       "  </thead>\n",
       "  <tbody>\n",
       "    <tr>\n",
       "      <th>Spor yapmaya üşenip evde neler yapabilirim diyenlerden misin? :  Evet!</th>\n",
       "      <td>186.0</td>\n",
       "      <td>94.0</td>\n",
       "    </tr>\n",
       "    <tr>\n",
       "      <th>Spor yapmaya üşenip evde neler yapabilirim diyenlerden misin? :  Hayır</th>\n",
       "      <td>318.0</td>\n",
       "      <td>74.0</td>\n",
       "    </tr>\n",
       "  </tbody>\n",
       "</table>\n",
       "</div>"
      ],
      "text/plain": [
       "                                                    Spor yapmaya üşenip evde neler yapabilirim diyenlerden misin? :  Evet  \\\n",
       "Spor yapmaya üşenip evde neler yapabilirim diye...                                              186.0                       \n",
       "Spor yapmaya üşenip evde neler yapabilirim diye...                                              318.0                       \n",
       "\n",
       "                                                    Spor yapmaya üşenip evde neler yapabilirim diyenlerden misin? :  Hayır  \n",
       "Spor yapmaya üşenip evde neler yapabilirim diye...                                               94.0                       \n",
       "Spor yapmaya üşenip evde neler yapabilirim diye...                                               74.0                       "
      ]
     },
     "execution_count": 68,
     "metadata": {},
     "output_type": "execute_result"
    }
   ],
   "source": [
    "df_groupby1"
   ]
  },
  {
   "cell_type": "code",
   "execution_count": 75,
   "id": "sealed-bench",
   "metadata": {},
   "outputs": [],
   "source": [
    "total_person=df_filtered.dropna().shape[0]"
   ]
  },
  {
   "cell_type": "code",
   "execution_count": 80,
   "id": "lucky-nelson",
   "metadata": {},
   "outputs": [
    {
     "data": {
      "text/plain": [
       "[18.3, 34.82]"
      ]
     },
     "execution_count": 80,
     "metadata": {},
     "output_type": "execute_result"
    }
   ],
   "source": [
    "[round((i/total_person)*100,2) for i in [123,234]]"
   ]
  },
  {
   "cell_type": "code",
   "execution_count": 76,
   "id": "ongoing-stephen",
   "metadata": {},
   "outputs": [
    {
     "ename": "TypeError",
     "evalue": "unsupported operand type(s) for /: 'list' and 'int'",
     "output_type": "error",
     "traceback": [
      "\u001b[1;31m---------------------------------------------------------------------------\u001b[0m",
      "\u001b[1;31mTypeError\u001b[0m                                 Traceback (most recent call last)",
      "\u001b[1;32m<ipython-input-76-bcd53b220e84>\u001b[0m in \u001b[0;36m<module>\u001b[1;34m\u001b[0m\n\u001b[1;32m----> 1\u001b[1;33m \u001b[1;33m[\u001b[0m\u001b[1;36m123\u001b[0m\u001b[1;33m,\u001b[0m\u001b[1;36m234\u001b[0m\u001b[1;33m]\u001b[0m\u001b[1;33m/\u001b[0m\u001b[0mtotal_person\u001b[0m\u001b[1;33m\u001b[0m\u001b[1;33m\u001b[0m\u001b[0m\n\u001b[0m",
      "\u001b[1;31mTypeError\u001b[0m: unsupported operand type(s) for /: 'list' and 'int'"
     ]
    }
   ],
   "source": [
    "[123,234]/"
   ]
  },
  {
   "cell_type": "code",
   "execution_count": 189,
   "id": "impaired-lover",
   "metadata": {},
   "outputs": [],
   "source": [
    "df_groupbytable=df_groupby1.reset_index()\n",
    "my_table_list=[]\n",
    "for i in range(df_groupbytable.shape[0]):\n",
    "    for col in df_groupbytable.columns:\n",
    "        my_table_list.append(df_groupbytable[col][i])"
   ]
  },
  {
   "cell_type": "code",
   "execution_count": 185,
   "id": "cathedral-retirement",
   "metadata": {},
   "outputs": [
    {
     "data": {
      "text/plain": [
       "2"
      ]
     },
     "execution_count": 185,
     "metadata": {},
     "output_type": "execute_result"
    }
   ],
   "source": [
    "df_groupbytable.shape[0]"
   ]
  },
  {
   "cell_type": "code",
   "execution_count": 143,
   "id": "amended-noise",
   "metadata": {},
   "outputs": [
    {
     "data": {
      "text/plain": [
       "[['Spor yapmaya üşenip evde neler yapabilirim diyenlerden misin? :  Evet!',\n",
       "  'Spor yapmaya üşenip evde neler yapabilirim diyenlerden misin? :  Hayır'],\n",
       " [186.0, 318.0],\n",
       " [94.0, 74.0]]"
      ]
     },
     "execution_count": 143,
     "metadata": {},
     "output_type": "execute_result"
    }
   ],
   "source": [
    " for i in range(0,my_dict[\"summary_filtered_len_num\"]) %}\n",
    "                        <tr>\n",
    "                        <td>{{my_dict[\"summary_filtered\"][\"Column_Name\"][i]}} </td>\n",
    "                         <td>{{my_dict[\"summary_filtered\"][\"Unique_Data\"][i]}} </td>\n",
    "                             <td>{{my_dict[\"summary_filtered\"][\"Missing_Data\"][i]}} </td>\n",
    "                             <td>{{my_dict[\"summary_filtered\"][\"Missing_Percentage\"][i]}} </td>\n",
    "                             <td>{{my_dict[\"summary_filtered\"][\"Data_Types\"][i]}} </td>\n",
    "                             <td>{{my_dict[\"summary_filtered\"][\"Count\"][i]}} </td>\n",
    "                             <td>{{my_dict[\"summary_filtered\"][\"Mean\"][i]}} </td>\n",
    "                             <td>{{my_dict[\"summary_filtered\"][\"Std\"][i]}} </td>\n",
    "                             <td>{{my_dict[\"summary_filtered\"][\"Min\"][i]}} </td>\n",
    "                             <td>{{my_dict[\"summary_filtered\"][\"25%\"][i]}} </td>\n",
    "                             <td>{{my_dict[\"summary_filtered\"][\"50%\"][i]}} </td>\n",
    "                            <td>{{my_dict[\"summary_filtered\"][\"75%\"][i]}} </td>\n",
    "                            <td>{{my_dict[\"summary_filtered\"][\"Max\"][i]}} </td>\n",
    "\n",
    "\n",
    "\n",
    "                        </tr>\n",
    "                     {% endfor %}\n"
   ]
  },
  {
   "cell_type": "code",
   "execution_count": 187,
   "id": "advisory-activity",
   "metadata": {},
   "outputs": [],
   "source": [
    "my_table_list=[]\n",
    "for i in range(df_groupbytable.shape[0]):\n",
    "    for col in df_groupbytable.columns:\n",
    "        my_table_list.append(df_groupbytable[col][i])\n",
    "    "
   ]
  },
  {
   "cell_type": "code",
   "execution_count": 188,
   "id": "dramatic-gentleman",
   "metadata": {},
   "outputs": [
    {
     "data": {
      "text/plain": [
       "['Spor yapmaya üşenip evde neler yapabilirim diyenlerden misin? :  Evet!',\n",
       " 186.0,\n",
       " 94.0,\n",
       " 'Spor yapmaya üşenip evde neler yapabilirim diyenlerden misin? :  Hayır',\n",
       " 318.0,\n",
       " 74.0]"
      ]
     },
     "execution_count": 188,
     "metadata": {},
     "output_type": "execute_result"
    }
   ],
   "source": [
    "my_table_list"
   ]
  },
  {
   "cell_type": "code",
   "execution_count": null,
   "id": "random-delicious",
   "metadata": {},
   "outputs": [],
   "source": []
  }
 ],
 "metadata": {
  "kernelspec": {
   "display_name": "Python 3",
   "language": "python",
   "name": "python3"
  },
  "language_info": {
   "codemirror_mode": {
    "name": "ipython",
    "version": 3
   },
   "file_extension": ".py",
   "mimetype": "text/x-python",
   "name": "python",
   "nbconvert_exporter": "python",
   "pygments_lexer": "ipython3",
   "version": "3.7.9"
  }
 },
 "nbformat": 4,
 "nbformat_minor": 5
}
